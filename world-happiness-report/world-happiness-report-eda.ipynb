{
 "cells": [
  {
   "cell_type": "markdown",
   "metadata": {},
   "source": [
    "# Exploratory Data Analysis on the World Happiness Report\n",
    "\n",
    "The [World Happiness Report](https://worldhappiness.report/) is a landmark survey of the state of global happiness which ranks countries based on responses from citizen self-evaluations and ratings of their own lives and how happy they perceive themselves to be. The report was first launched in 2012 and primarily uses data from the [Gallup World Poll](https://www.gallup.com/178667/gallup-world-poll-work.aspx) to rank countries by their happiness score. The happiness score is calculated from citizens responses to the Cantril Ladder question, which asks them to think about the best possible life for themselves on a scale of 1 (the worst) to 10 (the best) and to score their current lives on that scale.\n",
    "\n",
    "In this project, we will be analyzing data from the 2019 and 2020 World Happiness Reports to gain insights on the state of happiness within the world in the year before the COVID-19 pandemic began and in the first year of the pandemic. The dataset we will be using can be downloaded from [Kaggle](https://www.kaggle.com/datasets/mathurinache/world-happiness-report), and contains multiple CSV files (one for each years' report, starting with the 2015 report). The files include information on the countries surveyed, their happiness scores, and estimates based on variables that may contribute to how life evaluations are higher in each country than they are in Dystopia, a hypothetical country with the world’s least-happy people.\n",
    "\n",
    "We will be cleaning up the dataset files before moving onto performing exploratory data analysis and creating visualizations from the results to have a better understanding of the data. To do so, we will utilize tools from several Python libraries, such as NumPy, Pandas, Matplotlib, and Seaborn, and techniques we learned from the [Data Analysis with Python: Zero to Pandas](http://zerotopandas.com/) course by Jovian."
   ]
  },
  {
   "cell_type": "markdown",
   "metadata": {},
   "source": [
    "### How to run the code\n",
    "\n",
    "This is an executable [*Jupyter notebook*](https://jupyter.org) hosted on [Jovian.ml](https://www.jovian.ml), a platform for sharing data science projects. You can run and experiment with the code in a couple of ways: *using free online resources* (recommended) or *on your own computer*.\n",
    "\n",
    "#### Option 1: Running using free online resources (1-click, recommended)\n",
    "\n",
    "The easiest way to start executing this notebook is to click the \"Run\" button at the top of this page, and select \"Run on Binder\". This will run the notebook on [mybinder.org](https://mybinder.org), a free online service for running Jupyter notebooks. You can also select \"Run on Colab\" or \"Run on Kaggle\".\n",
    "\n",
    "\n",
    "#### Option 2: Running on your computer locally\n",
    "\n",
    "1. Install Conda by [following these instructions](https://conda.io/projects/conda/en/latest/user-guide/install/index.html). Add Conda binaries to your system `PATH`, so you can use the `conda` command on your terminal.\n",
    "\n",
    "2. Create a Conda environment and install the required libraries by running these commands on the terminal:\n",
    "\n",
    "```\n",
    "conda create -n zerotopandas -y python=3.8 \n",
    "conda activate zerotopandas\n",
    "pip install jovian jupyter numpy pandas matplotlib seaborn opendatasets --upgrade\n",
    "```\n",
    "\n",
    "3. Press the \"Clone\" button above to copy the command for downloading the notebook, and run it on the terminal. This will create a new directory and download the notebook. The command will look something like this:\n",
    "\n",
    "```\n",
    "jovian clone notebook-owner/notebook-id\n",
    "```\n",
    "\n",
    "\n",
    "\n",
    "4. Enter the newly created directory using `cd directory-name` and start the Jupyter notebook.\n",
    "\n",
    "```\n",
    "jupyter notebook\n",
    "```\n",
    "\n",
    "You can now access Jupyter's web interface by clicking the link that shows up on the terminal or by visiting http://localhost:8888 on your browser. Click on the notebook file (it has a `.ipynb` extension) to open it.\n"
   ]
  },
  {
   "cell_type": "markdown",
   "metadata": {},
   "source": [
    "## Downloading the Dataset\n",
    "\n",
    "To download the dataset from Kaggle, we will be using [opendatasets](https://github.com/JovianHQ/opendatasets#opendatasets), a Python helper library used for downloading datasets from online sources. A Kaggle account will be needed to download the dataset directly.\n",
    "\n",
    "We will start by installing the library into the notebook, then we will download the dataset. "
   ]
  },
  {
   "cell_type": "code",
   "execution_count": 2,
   "metadata": {},
   "outputs": [],
   "source": [
    "!pip install jovian opendatasets --upgrade --quiet"
   ]
  },
  {
   "cell_type": "markdown",
   "metadata": {},
   "source": [
    "Let's begin by downloading the data, and listing the files within the dataset.\n",
    "\n",
    "Set the dataset URL into the variable `dataset_url` and use the helper function `od.download` to retrieve the dataset."
   ]
  },
  {
   "cell_type": "code",
   "execution_count": 3,
   "metadata": {},
   "outputs": [],
   "source": [
    "dataset_url = 'https://www.kaggle.com/datasets/mathurinache/world-happiness-report' "
   ]
  },
  {
   "cell_type": "code",
   "execution_count": 4,
   "metadata": {},
   "outputs": [
    {
     "name": "stdout",
     "output_type": "stream",
     "text": [
      "Please provide your Kaggle credentials to download this dataset. Learn more: http://bit.ly/kaggle-creds\n",
      "Your Kaggle username: amandajchen\n",
      "Your Kaggle Key: ········\n",
      "Downloading world-happiness-report.zip to ./world-happiness-report\n"
     ]
    },
    {
     "name": "stderr",
     "output_type": "stream",
     "text": [
      "100%|██████████| 67.4k/67.4k [00:00<00:00, 38.7MB/s]"
     ]
    },
    {
     "name": "stdout",
     "output_type": "stream",
     "text": [
      "\n"
     ]
    },
    {
     "name": "stderr",
     "output_type": "stream",
     "text": [
      "\n"
     ]
    }
   ],
   "source": [
    "import opendatasets as od\n",
    "od.download(dataset_url)"
   ]
  },
  {
   "cell_type": "markdown",
   "metadata": {},
   "source": [
    "The dataset has been downloaded and extracted.\n",
    "\n",
    "Next, set the dataset to the variable `data_dir` (a directory) and use the function `os.listdir` to extract the CSV files from within the dataset."
   ]
  },
  {
   "cell_type": "code",
   "execution_count": 5,
   "metadata": {},
   "outputs": [],
   "source": [
    "data_dir = './world-happiness-report'"
   ]
  },
  {
   "cell_type": "code",
   "execution_count": 6,
   "metadata": {},
   "outputs": [
    {
     "data": {
      "text/plain": [
       "['2015.csv',\n",
       " '2020.csv',\n",
       " '2018.csv',\n",
       " '2022.csv',\n",
       " '2021.csv',\n",
       " '2019.csv',\n",
       " '2017.csv',\n",
       " '2016.csv']"
      ]
     },
     "execution_count": 6,
     "metadata": {},
     "output_type": "execute_result"
    }
   ],
   "source": [
    "import os\n",
    "os.listdir(data_dir)"
   ]
  },
  {
   "cell_type": "markdown",
   "metadata": {},
   "source": [
    "Let us save and upload our work to Jovian before continuing."
   ]
  },
  {
   "cell_type": "code",
   "execution_count": 6,
   "metadata": {},
   "outputs": [],
   "source": [
    "project_name = \"world-happiness-eda\""
   ]
  },
  {
   "cell_type": "code",
   "execution_count": 7,
   "metadata": {},
   "outputs": [],
   "source": [
    "!pip install jovian --upgrade -q"
   ]
  },
  {
   "cell_type": "code",
   "execution_count": 8,
   "metadata": {},
   "outputs": [],
   "source": [
    "import jovian"
   ]
  },
  {
   "cell_type": "code",
   "execution_count": 9,
   "metadata": {},
   "outputs": [
    {
     "data": {
      "application/javascript": [
       "window.require && require([\"base/js/namespace\"],function(Jupyter){Jupyter.notebook.save_checkpoint()})"
      ],
      "text/plain": [
       "<IPython.core.display.Javascript object>"
      ]
     },
     "metadata": {},
     "output_type": "display_data"
    },
    {
     "name": "stdout",
     "output_type": "stream",
     "text": [
      "[jovian] Updating notebook \"ajchen97/world-happiness-eda\" on https://jovian.com\u001b[0m\n",
      "[jovian] Committed successfully! https://jovian.com/ajchen97/world-happiness-eda\u001b[0m\n"
     ]
    },
    {
     "data": {
      "text/plain": [
       "'https://jovian.com/ajchen97/world-happiness-eda'"
      ]
     },
     "execution_count": 9,
     "metadata": {},
     "output_type": "execute_result"
    }
   ],
   "source": [
    "jovian.commit(project=project_name)"
   ]
  },
  {
   "cell_type": "markdown",
   "metadata": {},
   "source": [
    "## Data Preparation and Cleaning\n",
    "\n",
    "In this section, we will clean the dataset and make any necessary modifications in preparation for the analysis.\n",
    "\n",
    "Let’s import the Pandas and NumPy libraries, then create a dataframe from each of the CSV files we will need, using the `read_csv` method. Name the dataframe(s) with `_raw_df` to indicate that the data has not be modified or processed in any way.\n",
    "\n",
    "**Note: include the dataset name when reading the file (i.e. `dataset/dataset-file.csv`)*"
   ]
  },
  {
   "cell_type": "code",
   "execution_count": 7,
   "metadata": {},
   "outputs": [],
   "source": [
    "import pandas as pd\n",
    "import numpy as np"
   ]
  },
  {
   "cell_type": "code",
   "execution_count": 8,
   "metadata": {},
   "outputs": [],
   "source": [
    "wh2019_raw_df = pd.read_csv('world-happiness-report/2019.csv')\n",
    "wh2020_raw_df = pd.read_csv('world-happiness-report/2020.csv')"
   ]
  },
  {
   "cell_type": "code",
   "execution_count": 9,
   "metadata": {},
   "outputs": [
    {
     "data": {
      "text/html": [
       "<div>\n",
       "<style scoped>\n",
       "    .dataframe tbody tr th:only-of-type {\n",
       "        vertical-align: middle;\n",
       "    }\n",
       "\n",
       "    .dataframe tbody tr th {\n",
       "        vertical-align: top;\n",
       "    }\n",
       "\n",
       "    .dataframe thead th {\n",
       "        text-align: right;\n",
       "    }\n",
       "</style>\n",
       "<table border=\"1\" class=\"dataframe\">\n",
       "  <thead>\n",
       "    <tr style=\"text-align: right;\">\n",
       "      <th></th>\n",
       "      <th>Overall rank</th>\n",
       "      <th>Country or region</th>\n",
       "      <th>Score</th>\n",
       "      <th>GDP per capita</th>\n",
       "      <th>Social support</th>\n",
       "      <th>Healthy life expectancy</th>\n",
       "      <th>Freedom to make life choices</th>\n",
       "      <th>Generosity</th>\n",
       "      <th>Perceptions of corruption</th>\n",
       "    </tr>\n",
       "  </thead>\n",
       "  <tbody>\n",
       "    <tr>\n",
       "      <th>0</th>\n",
       "      <td>1</td>\n",
       "      <td>Finland</td>\n",
       "      <td>7.769</td>\n",
       "      <td>1.340</td>\n",
       "      <td>1.587</td>\n",
       "      <td>0.986</td>\n",
       "      <td>0.596</td>\n",
       "      <td>0.153</td>\n",
       "      <td>0.393</td>\n",
       "    </tr>\n",
       "    <tr>\n",
       "      <th>1</th>\n",
       "      <td>2</td>\n",
       "      <td>Denmark</td>\n",
       "      <td>7.600</td>\n",
       "      <td>1.383</td>\n",
       "      <td>1.573</td>\n",
       "      <td>0.996</td>\n",
       "      <td>0.592</td>\n",
       "      <td>0.252</td>\n",
       "      <td>0.410</td>\n",
       "    </tr>\n",
       "    <tr>\n",
       "      <th>2</th>\n",
       "      <td>3</td>\n",
       "      <td>Norway</td>\n",
       "      <td>7.554</td>\n",
       "      <td>1.488</td>\n",
       "      <td>1.582</td>\n",
       "      <td>1.028</td>\n",
       "      <td>0.603</td>\n",
       "      <td>0.271</td>\n",
       "      <td>0.341</td>\n",
       "    </tr>\n",
       "    <tr>\n",
       "      <th>3</th>\n",
       "      <td>4</td>\n",
       "      <td>Iceland</td>\n",
       "      <td>7.494</td>\n",
       "      <td>1.380</td>\n",
       "      <td>1.624</td>\n",
       "      <td>1.026</td>\n",
       "      <td>0.591</td>\n",
       "      <td>0.354</td>\n",
       "      <td>0.118</td>\n",
       "    </tr>\n",
       "    <tr>\n",
       "      <th>4</th>\n",
       "      <td>5</td>\n",
       "      <td>Netherlands</td>\n",
       "      <td>7.488</td>\n",
       "      <td>1.396</td>\n",
       "      <td>1.522</td>\n",
       "      <td>0.999</td>\n",
       "      <td>0.557</td>\n",
       "      <td>0.322</td>\n",
       "      <td>0.298</td>\n",
       "    </tr>\n",
       "    <tr>\n",
       "      <th>...</th>\n",
       "      <td>...</td>\n",
       "      <td>...</td>\n",
       "      <td>...</td>\n",
       "      <td>...</td>\n",
       "      <td>...</td>\n",
       "      <td>...</td>\n",
       "      <td>...</td>\n",
       "      <td>...</td>\n",
       "      <td>...</td>\n",
       "    </tr>\n",
       "    <tr>\n",
       "      <th>151</th>\n",
       "      <td>152</td>\n",
       "      <td>Rwanda</td>\n",
       "      <td>3.334</td>\n",
       "      <td>0.359</td>\n",
       "      <td>0.711</td>\n",
       "      <td>0.614</td>\n",
       "      <td>0.555</td>\n",
       "      <td>0.217</td>\n",
       "      <td>0.411</td>\n",
       "    </tr>\n",
       "    <tr>\n",
       "      <th>152</th>\n",
       "      <td>153</td>\n",
       "      <td>Tanzania</td>\n",
       "      <td>3.231</td>\n",
       "      <td>0.476</td>\n",
       "      <td>0.885</td>\n",
       "      <td>0.499</td>\n",
       "      <td>0.417</td>\n",
       "      <td>0.276</td>\n",
       "      <td>0.147</td>\n",
       "    </tr>\n",
       "    <tr>\n",
       "      <th>153</th>\n",
       "      <td>154</td>\n",
       "      <td>Afghanistan</td>\n",
       "      <td>3.203</td>\n",
       "      <td>0.350</td>\n",
       "      <td>0.517</td>\n",
       "      <td>0.361</td>\n",
       "      <td>0.000</td>\n",
       "      <td>0.158</td>\n",
       "      <td>0.025</td>\n",
       "    </tr>\n",
       "    <tr>\n",
       "      <th>154</th>\n",
       "      <td>155</td>\n",
       "      <td>Central African Republic</td>\n",
       "      <td>3.083</td>\n",
       "      <td>0.026</td>\n",
       "      <td>0.000</td>\n",
       "      <td>0.105</td>\n",
       "      <td>0.225</td>\n",
       "      <td>0.235</td>\n",
       "      <td>0.035</td>\n",
       "    </tr>\n",
       "    <tr>\n",
       "      <th>155</th>\n",
       "      <td>156</td>\n",
       "      <td>South Sudan</td>\n",
       "      <td>2.853</td>\n",
       "      <td>0.306</td>\n",
       "      <td>0.575</td>\n",
       "      <td>0.295</td>\n",
       "      <td>0.010</td>\n",
       "      <td>0.202</td>\n",
       "      <td>0.091</td>\n",
       "    </tr>\n",
       "  </tbody>\n",
       "</table>\n",
       "<p>156 rows × 9 columns</p>\n",
       "</div>"
      ],
      "text/plain": [
       "     Overall rank         Country or region  Score  GDP per capita  \\\n",
       "0               1                   Finland  7.769           1.340   \n",
       "1               2                   Denmark  7.600           1.383   \n",
       "2               3                    Norway  7.554           1.488   \n",
       "3               4                   Iceland  7.494           1.380   \n",
       "4               5               Netherlands  7.488           1.396   \n",
       "..            ...                       ...    ...             ...   \n",
       "151           152                    Rwanda  3.334           0.359   \n",
       "152           153                  Tanzania  3.231           0.476   \n",
       "153           154               Afghanistan  3.203           0.350   \n",
       "154           155  Central African Republic  3.083           0.026   \n",
       "155           156               South Sudan  2.853           0.306   \n",
       "\n",
       "     Social support  Healthy life expectancy  Freedom to make life choices  \\\n",
       "0             1.587                    0.986                         0.596   \n",
       "1             1.573                    0.996                         0.592   \n",
       "2             1.582                    1.028                         0.603   \n",
       "3             1.624                    1.026                         0.591   \n",
       "4             1.522                    0.999                         0.557   \n",
       "..              ...                      ...                           ...   \n",
       "151           0.711                    0.614                         0.555   \n",
       "152           0.885                    0.499                         0.417   \n",
       "153           0.517                    0.361                         0.000   \n",
       "154           0.000                    0.105                         0.225   \n",
       "155           0.575                    0.295                         0.010   \n",
       "\n",
       "     Generosity  Perceptions of corruption  \n",
       "0         0.153                      0.393  \n",
       "1         0.252                      0.410  \n",
       "2         0.271                      0.341  \n",
       "3         0.354                      0.118  \n",
       "4         0.322                      0.298  \n",
       "..          ...                        ...  \n",
       "151       0.217                      0.411  \n",
       "152       0.276                      0.147  \n",
       "153       0.158                      0.025  \n",
       "154       0.235                      0.035  \n",
       "155       0.202                      0.091  \n",
       "\n",
       "[156 rows x 9 columns]"
      ]
     },
     "execution_count": 9,
     "metadata": {},
     "output_type": "execute_result"
    }
   ],
   "source": [
    "wh2019_raw_df"
   ]
  },
  {
   "cell_type": "markdown",
   "metadata": {},
   "source": [
    "The 2019 dataframe contains 156 rows and 9 columns."
   ]
  },
  {
   "cell_type": "code",
   "execution_count": 10,
   "metadata": {},
   "outputs": [
    {
     "data": {
      "text/html": [
       "<div>\n",
       "<style scoped>\n",
       "    .dataframe tbody tr th:only-of-type {\n",
       "        vertical-align: middle;\n",
       "    }\n",
       "\n",
       "    .dataframe tbody tr th {\n",
       "        vertical-align: top;\n",
       "    }\n",
       "\n",
       "    .dataframe thead th {\n",
       "        text-align: right;\n",
       "    }\n",
       "</style>\n",
       "<table border=\"1\" class=\"dataframe\">\n",
       "  <thead>\n",
       "    <tr style=\"text-align: right;\">\n",
       "      <th></th>\n",
       "      <th>Country name</th>\n",
       "      <th>Regional indicator</th>\n",
       "      <th>Ladder score</th>\n",
       "      <th>Standard error of ladder score</th>\n",
       "      <th>upperwhisker</th>\n",
       "      <th>lowerwhisker</th>\n",
       "      <th>Logged GDP per capita</th>\n",
       "      <th>Social support</th>\n",
       "      <th>Healthy life expectancy</th>\n",
       "      <th>Freedom to make life choices</th>\n",
       "      <th>Generosity</th>\n",
       "      <th>Perceptions of corruption</th>\n",
       "      <th>Ladder score in Dystopia</th>\n",
       "      <th>Explained by: Log GDP per capita</th>\n",
       "      <th>Explained by: Social support</th>\n",
       "      <th>Explained by: Healthy life expectancy</th>\n",
       "      <th>Explained by: Freedom to make life choices</th>\n",
       "      <th>Explained by: Generosity</th>\n",
       "      <th>Explained by: Perceptions of corruption</th>\n",
       "      <th>Dystopia + residual</th>\n",
       "    </tr>\n",
       "  </thead>\n",
       "  <tbody>\n",
       "    <tr>\n",
       "      <th>0</th>\n",
       "      <td>Finland</td>\n",
       "      <td>Western Europe</td>\n",
       "      <td>7.8087</td>\n",
       "      <td>0.031156</td>\n",
       "      <td>7.869766</td>\n",
       "      <td>7.747634</td>\n",
       "      <td>10.639267</td>\n",
       "      <td>0.954330</td>\n",
       "      <td>71.900825</td>\n",
       "      <td>0.949172</td>\n",
       "      <td>-0.059482</td>\n",
       "      <td>0.195445</td>\n",
       "      <td>1.972317</td>\n",
       "      <td>1.285190</td>\n",
       "      <td>1.499526</td>\n",
       "      <td>0.961271</td>\n",
       "      <td>0.662317</td>\n",
       "      <td>0.159670</td>\n",
       "      <td>0.477857</td>\n",
       "      <td>2.762835</td>\n",
       "    </tr>\n",
       "    <tr>\n",
       "      <th>1</th>\n",
       "      <td>Denmark</td>\n",
       "      <td>Western Europe</td>\n",
       "      <td>7.6456</td>\n",
       "      <td>0.033492</td>\n",
       "      <td>7.711245</td>\n",
       "      <td>7.579955</td>\n",
       "      <td>10.774001</td>\n",
       "      <td>0.955991</td>\n",
       "      <td>72.402504</td>\n",
       "      <td>0.951444</td>\n",
       "      <td>0.066202</td>\n",
       "      <td>0.168489</td>\n",
       "      <td>1.972317</td>\n",
       "      <td>1.326949</td>\n",
       "      <td>1.503449</td>\n",
       "      <td>0.979333</td>\n",
       "      <td>0.665040</td>\n",
       "      <td>0.242793</td>\n",
       "      <td>0.495260</td>\n",
       "      <td>2.432741</td>\n",
       "    </tr>\n",
       "    <tr>\n",
       "      <th>2</th>\n",
       "      <td>Switzerland</td>\n",
       "      <td>Western Europe</td>\n",
       "      <td>7.5599</td>\n",
       "      <td>0.035014</td>\n",
       "      <td>7.628528</td>\n",
       "      <td>7.491272</td>\n",
       "      <td>10.979933</td>\n",
       "      <td>0.942847</td>\n",
       "      <td>74.102448</td>\n",
       "      <td>0.921337</td>\n",
       "      <td>0.105911</td>\n",
       "      <td>0.303728</td>\n",
       "      <td>1.972317</td>\n",
       "      <td>1.390774</td>\n",
       "      <td>1.472403</td>\n",
       "      <td>1.040533</td>\n",
       "      <td>0.628954</td>\n",
       "      <td>0.269056</td>\n",
       "      <td>0.407946</td>\n",
       "      <td>2.350267</td>\n",
       "    </tr>\n",
       "    <tr>\n",
       "      <th>3</th>\n",
       "      <td>Iceland</td>\n",
       "      <td>Western Europe</td>\n",
       "      <td>7.5045</td>\n",
       "      <td>0.059616</td>\n",
       "      <td>7.621347</td>\n",
       "      <td>7.387653</td>\n",
       "      <td>10.772559</td>\n",
       "      <td>0.974670</td>\n",
       "      <td>73.000000</td>\n",
       "      <td>0.948892</td>\n",
       "      <td>0.246944</td>\n",
       "      <td>0.711710</td>\n",
       "      <td>1.972317</td>\n",
       "      <td>1.326502</td>\n",
       "      <td>1.547567</td>\n",
       "      <td>1.000843</td>\n",
       "      <td>0.661981</td>\n",
       "      <td>0.362330</td>\n",
       "      <td>0.144541</td>\n",
       "      <td>2.460688</td>\n",
       "    </tr>\n",
       "    <tr>\n",
       "      <th>4</th>\n",
       "      <td>Norway</td>\n",
       "      <td>Western Europe</td>\n",
       "      <td>7.4880</td>\n",
       "      <td>0.034837</td>\n",
       "      <td>7.556281</td>\n",
       "      <td>7.419719</td>\n",
       "      <td>11.087804</td>\n",
       "      <td>0.952487</td>\n",
       "      <td>73.200783</td>\n",
       "      <td>0.955750</td>\n",
       "      <td>0.134533</td>\n",
       "      <td>0.263218</td>\n",
       "      <td>1.972317</td>\n",
       "      <td>1.424207</td>\n",
       "      <td>1.495173</td>\n",
       "      <td>1.008072</td>\n",
       "      <td>0.670201</td>\n",
       "      <td>0.287985</td>\n",
       "      <td>0.434101</td>\n",
       "      <td>2.168266</td>\n",
       "    </tr>\n",
       "    <tr>\n",
       "      <th>...</th>\n",
       "      <td>...</td>\n",
       "      <td>...</td>\n",
       "      <td>...</td>\n",
       "      <td>...</td>\n",
       "      <td>...</td>\n",
       "      <td>...</td>\n",
       "      <td>...</td>\n",
       "      <td>...</td>\n",
       "      <td>...</td>\n",
       "      <td>...</td>\n",
       "      <td>...</td>\n",
       "      <td>...</td>\n",
       "      <td>...</td>\n",
       "      <td>...</td>\n",
       "      <td>...</td>\n",
       "      <td>...</td>\n",
       "      <td>...</td>\n",
       "      <td>...</td>\n",
       "      <td>...</td>\n",
       "      <td>...</td>\n",
       "    </tr>\n",
       "    <tr>\n",
       "      <th>148</th>\n",
       "      <td>Central African Republic</td>\n",
       "      <td>Sub-Saharan Africa</td>\n",
       "      <td>3.4759</td>\n",
       "      <td>0.115183</td>\n",
       "      <td>3.701658</td>\n",
       "      <td>3.250141</td>\n",
       "      <td>6.625160</td>\n",
       "      <td>0.319460</td>\n",
       "      <td>45.200001</td>\n",
       "      <td>0.640881</td>\n",
       "      <td>0.082410</td>\n",
       "      <td>0.891807</td>\n",
       "      <td>1.972317</td>\n",
       "      <td>0.041072</td>\n",
       "      <td>0.000000</td>\n",
       "      <td>0.000000</td>\n",
       "      <td>0.292814</td>\n",
       "      <td>0.253513</td>\n",
       "      <td>0.028265</td>\n",
       "      <td>2.860198</td>\n",
       "    </tr>\n",
       "    <tr>\n",
       "      <th>149</th>\n",
       "      <td>Rwanda</td>\n",
       "      <td>Sub-Saharan Africa</td>\n",
       "      <td>3.3123</td>\n",
       "      <td>0.052425</td>\n",
       "      <td>3.415053</td>\n",
       "      <td>3.209547</td>\n",
       "      <td>7.600104</td>\n",
       "      <td>0.540835</td>\n",
       "      <td>61.098846</td>\n",
       "      <td>0.900589</td>\n",
       "      <td>0.055484</td>\n",
       "      <td>0.183541</td>\n",
       "      <td>1.972317</td>\n",
       "      <td>0.343243</td>\n",
       "      <td>0.522876</td>\n",
       "      <td>0.572383</td>\n",
       "      <td>0.604088</td>\n",
       "      <td>0.235705</td>\n",
       "      <td>0.485542</td>\n",
       "      <td>0.548445</td>\n",
       "    </tr>\n",
       "    <tr>\n",
       "      <th>150</th>\n",
       "      <td>Zimbabwe</td>\n",
       "      <td>Sub-Saharan Africa</td>\n",
       "      <td>3.2992</td>\n",
       "      <td>0.058674</td>\n",
       "      <td>3.414202</td>\n",
       "      <td>3.184198</td>\n",
       "      <td>7.865712</td>\n",
       "      <td>0.763093</td>\n",
       "      <td>55.617260</td>\n",
       "      <td>0.711458</td>\n",
       "      <td>-0.072064</td>\n",
       "      <td>0.810237</td>\n",
       "      <td>1.972317</td>\n",
       "      <td>0.425564</td>\n",
       "      <td>1.047835</td>\n",
       "      <td>0.375038</td>\n",
       "      <td>0.377405</td>\n",
       "      <td>0.151349</td>\n",
       "      <td>0.080929</td>\n",
       "      <td>0.841031</td>\n",
       "    </tr>\n",
       "    <tr>\n",
       "      <th>151</th>\n",
       "      <td>South Sudan</td>\n",
       "      <td>Sub-Saharan Africa</td>\n",
       "      <td>2.8166</td>\n",
       "      <td>0.107610</td>\n",
       "      <td>3.027516</td>\n",
       "      <td>2.605684</td>\n",
       "      <td>7.425360</td>\n",
       "      <td>0.553707</td>\n",
       "      <td>51.000000</td>\n",
       "      <td>0.451314</td>\n",
       "      <td>0.016519</td>\n",
       "      <td>0.763417</td>\n",
       "      <td>1.972317</td>\n",
       "      <td>0.289083</td>\n",
       "      <td>0.553279</td>\n",
       "      <td>0.208809</td>\n",
       "      <td>0.065609</td>\n",
       "      <td>0.209935</td>\n",
       "      <td>0.111157</td>\n",
       "      <td>1.378751</td>\n",
       "    </tr>\n",
       "    <tr>\n",
       "      <th>152</th>\n",
       "      <td>Afghanistan</td>\n",
       "      <td>South Asia</td>\n",
       "      <td>2.5669</td>\n",
       "      <td>0.031311</td>\n",
       "      <td>2.628270</td>\n",
       "      <td>2.505530</td>\n",
       "      <td>7.462861</td>\n",
       "      <td>0.470367</td>\n",
       "      <td>52.590000</td>\n",
       "      <td>0.396573</td>\n",
       "      <td>-0.096429</td>\n",
       "      <td>0.933687</td>\n",
       "      <td>1.972317</td>\n",
       "      <td>0.300706</td>\n",
       "      <td>0.356434</td>\n",
       "      <td>0.266052</td>\n",
       "      <td>0.000000</td>\n",
       "      <td>0.135235</td>\n",
       "      <td>0.001226</td>\n",
       "      <td>1.507236</td>\n",
       "    </tr>\n",
       "  </tbody>\n",
       "</table>\n",
       "<p>153 rows × 20 columns</p>\n",
       "</div>"
      ],
      "text/plain": [
       "                 Country name  Regional indicator  Ladder score  \\\n",
       "0                     Finland      Western Europe        7.8087   \n",
       "1                     Denmark      Western Europe        7.6456   \n",
       "2                 Switzerland      Western Europe        7.5599   \n",
       "3                     Iceland      Western Europe        7.5045   \n",
       "4                      Norway      Western Europe        7.4880   \n",
       "..                        ...                 ...           ...   \n",
       "148  Central African Republic  Sub-Saharan Africa        3.4759   \n",
       "149                    Rwanda  Sub-Saharan Africa        3.3123   \n",
       "150                  Zimbabwe  Sub-Saharan Africa        3.2992   \n",
       "151               South Sudan  Sub-Saharan Africa        2.8166   \n",
       "152               Afghanistan          South Asia        2.5669   \n",
       "\n",
       "     Standard error of ladder score  upperwhisker  lowerwhisker  \\\n",
       "0                          0.031156      7.869766      7.747634   \n",
       "1                          0.033492      7.711245      7.579955   \n",
       "2                          0.035014      7.628528      7.491272   \n",
       "3                          0.059616      7.621347      7.387653   \n",
       "4                          0.034837      7.556281      7.419719   \n",
       "..                              ...           ...           ...   \n",
       "148                        0.115183      3.701658      3.250141   \n",
       "149                        0.052425      3.415053      3.209547   \n",
       "150                        0.058674      3.414202      3.184198   \n",
       "151                        0.107610      3.027516      2.605684   \n",
       "152                        0.031311      2.628270      2.505530   \n",
       "\n",
       "     Logged GDP per capita  Social support  Healthy life expectancy  \\\n",
       "0                10.639267        0.954330                71.900825   \n",
       "1                10.774001        0.955991                72.402504   \n",
       "2                10.979933        0.942847                74.102448   \n",
       "3                10.772559        0.974670                73.000000   \n",
       "4                11.087804        0.952487                73.200783   \n",
       "..                     ...             ...                      ...   \n",
       "148               6.625160        0.319460                45.200001   \n",
       "149               7.600104        0.540835                61.098846   \n",
       "150               7.865712        0.763093                55.617260   \n",
       "151               7.425360        0.553707                51.000000   \n",
       "152               7.462861        0.470367                52.590000   \n",
       "\n",
       "     Freedom to make life choices  Generosity  Perceptions of corruption  \\\n",
       "0                        0.949172   -0.059482                   0.195445   \n",
       "1                        0.951444    0.066202                   0.168489   \n",
       "2                        0.921337    0.105911                   0.303728   \n",
       "3                        0.948892    0.246944                   0.711710   \n",
       "4                        0.955750    0.134533                   0.263218   \n",
       "..                            ...         ...                        ...   \n",
       "148                      0.640881    0.082410                   0.891807   \n",
       "149                      0.900589    0.055484                   0.183541   \n",
       "150                      0.711458   -0.072064                   0.810237   \n",
       "151                      0.451314    0.016519                   0.763417   \n",
       "152                      0.396573   -0.096429                   0.933687   \n",
       "\n",
       "     Ladder score in Dystopia  Explained by: Log GDP per capita  \\\n",
       "0                    1.972317                          1.285190   \n",
       "1                    1.972317                          1.326949   \n",
       "2                    1.972317                          1.390774   \n",
       "3                    1.972317                          1.326502   \n",
       "4                    1.972317                          1.424207   \n",
       "..                        ...                               ...   \n",
       "148                  1.972317                          0.041072   \n",
       "149                  1.972317                          0.343243   \n",
       "150                  1.972317                          0.425564   \n",
       "151                  1.972317                          0.289083   \n",
       "152                  1.972317                          0.300706   \n",
       "\n",
       "     Explained by: Social support  Explained by: Healthy life expectancy  \\\n",
       "0                        1.499526                               0.961271   \n",
       "1                        1.503449                               0.979333   \n",
       "2                        1.472403                               1.040533   \n",
       "3                        1.547567                               1.000843   \n",
       "4                        1.495173                               1.008072   \n",
       "..                            ...                                    ...   \n",
       "148                      0.000000                               0.000000   \n",
       "149                      0.522876                               0.572383   \n",
       "150                      1.047835                               0.375038   \n",
       "151                      0.553279                               0.208809   \n",
       "152                      0.356434                               0.266052   \n",
       "\n",
       "     Explained by: Freedom to make life choices  Explained by: Generosity  \\\n",
       "0                                      0.662317                  0.159670   \n",
       "1                                      0.665040                  0.242793   \n",
       "2                                      0.628954                  0.269056   \n",
       "3                                      0.661981                  0.362330   \n",
       "4                                      0.670201                  0.287985   \n",
       "..                                          ...                       ...   \n",
       "148                                    0.292814                  0.253513   \n",
       "149                                    0.604088                  0.235705   \n",
       "150                                    0.377405                  0.151349   \n",
       "151                                    0.065609                  0.209935   \n",
       "152                                    0.000000                  0.135235   \n",
       "\n",
       "     Explained by: Perceptions of corruption  Dystopia + residual  \n",
       "0                                   0.477857             2.762835  \n",
       "1                                   0.495260             2.432741  \n",
       "2                                   0.407946             2.350267  \n",
       "3                                   0.144541             2.460688  \n",
       "4                                   0.434101             2.168266  \n",
       "..                                       ...                  ...  \n",
       "148                                 0.028265             2.860198  \n",
       "149                                 0.485542             0.548445  \n",
       "150                                 0.080929             0.841031  \n",
       "151                                 0.111157             1.378751  \n",
       "152                                 0.001226             1.507236  \n",
       "\n",
       "[153 rows x 20 columns]"
      ]
     },
     "execution_count": 10,
     "metadata": {},
     "output_type": "execute_result"
    }
   ],
   "source": [
    "wh2020_raw_df"
   ]
  },
  {
   "cell_type": "markdown",
   "metadata": {},
   "source": [
    "The 2020 dataframe contains 153 rows and 20 columns."
   ]
  },
  {
   "cell_type": "markdown",
   "metadata": {},
   "source": [
    "Let's take a look at some basic information about the dataframes, using the `info` method."
   ]
  },
  {
   "cell_type": "code",
   "execution_count": 11,
   "metadata": {},
   "outputs": [
    {
     "name": "stdout",
     "output_type": "stream",
     "text": [
      "<class 'pandas.core.frame.DataFrame'>\n",
      "RangeIndex: 156 entries, 0 to 155\n",
      "Data columns (total 9 columns):\n",
      " #   Column                        Non-Null Count  Dtype  \n",
      "---  ------                        --------------  -----  \n",
      " 0   Overall rank                  156 non-null    int64  \n",
      " 1   Country or region             156 non-null    object \n",
      " 2   Score                         156 non-null    float64\n",
      " 3   GDP per capita                156 non-null    float64\n",
      " 4   Social support                156 non-null    float64\n",
      " 5   Healthy life expectancy       156 non-null    float64\n",
      " 6   Freedom to make life choices  156 non-null    float64\n",
      " 7   Generosity                    156 non-null    float64\n",
      " 8   Perceptions of corruption     156 non-null    float64\n",
      "dtypes: float64(7), int64(1), object(1)\n",
      "memory usage: 11.1+ KB\n"
     ]
    }
   ],
   "source": [
    "wh2019_raw_df.info()"
   ]
  },
  {
   "cell_type": "code",
   "execution_count": 12,
   "metadata": {},
   "outputs": [
    {
     "name": "stdout",
     "output_type": "stream",
     "text": [
      "<class 'pandas.core.frame.DataFrame'>\n",
      "RangeIndex: 153 entries, 0 to 152\n",
      "Data columns (total 20 columns):\n",
      " #   Column                                      Non-Null Count  Dtype  \n",
      "---  ------                                      --------------  -----  \n",
      " 0   Country name                                153 non-null    object \n",
      " 1   Regional indicator                          153 non-null    object \n",
      " 2   Ladder score                                153 non-null    float64\n",
      " 3   Standard error of ladder score              153 non-null    float64\n",
      " 4   upperwhisker                                153 non-null    float64\n",
      " 5   lowerwhisker                                153 non-null    float64\n",
      " 6   Logged GDP per capita                       153 non-null    float64\n",
      " 7   Social support                              153 non-null    float64\n",
      " 8   Healthy life expectancy                     153 non-null    float64\n",
      " 9   Freedom to make life choices                153 non-null    float64\n",
      " 10  Generosity                                  153 non-null    float64\n",
      " 11  Perceptions of corruption                   153 non-null    float64\n",
      " 12  Ladder score in Dystopia                    153 non-null    float64\n",
      " 13  Explained by: Log GDP per capita            153 non-null    float64\n",
      " 14  Explained by: Social support                153 non-null    float64\n",
      " 15  Explained by: Healthy life expectancy       153 non-null    float64\n",
      " 16  Explained by: Freedom to make life choices  153 non-null    float64\n",
      " 17  Explained by: Generosity                    153 non-null    float64\n",
      " 18  Explained by: Perceptions of corruption     153 non-null    float64\n",
      " 19  Dystopia + residual                         153 non-null    float64\n",
      "dtypes: float64(18), object(2)\n",
      "memory usage: 24.0+ KB\n"
     ]
    }
   ],
   "source": [
    "wh2020_raw_df.info()"
   ]
  },
  {
   "cell_type": "markdown",
   "metadata": {},
   "source": [
    "Notice the `wh2020_raw_df` dataset has less rows and more columns than the `wh2019_raw_df` dataset has. We will want to remove the extra columns in the 2020 dataframe to match the columns in the 2019 dataframe, which we will do later.\n",
    "\n",
    "First, let's check if there are any duplicate rows or empty/missing (NaN) values present in either of the datasets."
   ]
  },
  {
   "cell_type": "markdown",
   "metadata": {},
   "source": [
    "To check for duplicate rows, use the `duplicated` method followed by the `sum` function on the dataframe. If there are duplicates, any rows that are duplicates will be set as `True` and any distinct rows set as `False`, then the total will be calculated (`True` is considered 1 and `False` is considered 0 in a calculation). This will return the number of duplicates, if any."
   ]
  },
  {
   "cell_type": "code",
   "execution_count": 13,
   "metadata": {},
   "outputs": [
    {
     "data": {
      "text/plain": [
       "0"
      ]
     },
     "execution_count": 13,
     "metadata": {},
     "output_type": "execute_result"
    }
   ],
   "source": [
    "wh2019_raw_df.duplicated().sum()"
   ]
  },
  {
   "cell_type": "code",
   "execution_count": 14,
   "metadata": {},
   "outputs": [
    {
     "data": {
      "text/plain": [
       "0"
      ]
     },
     "execution_count": 14,
     "metadata": {},
     "output_type": "execute_result"
    }
   ],
   "source": [
    "wh2020_raw_df.duplicated().sum()"
   ]
  },
  {
   "cell_type": "markdown",
   "metadata": {},
   "source": [
    "To check for missing data, use the `isna` method followed by the `sum` function on the dataframe. This will return the number of NaN values in each column, if any."
   ]
  },
  {
   "cell_type": "code",
   "execution_count": 15,
   "metadata": {},
   "outputs": [
    {
     "data": {
      "text/plain": [
       "Overall rank                    0\n",
       "Country or region               0\n",
       "Score                           0\n",
       "GDP per capita                  0\n",
       "Social support                  0\n",
       "Healthy life expectancy         0\n",
       "Freedom to make life choices    0\n",
       "Generosity                      0\n",
       "Perceptions of corruption       0\n",
       "dtype: int64"
      ]
     },
     "execution_count": 15,
     "metadata": {},
     "output_type": "execute_result"
    }
   ],
   "source": [
    "wh2019_raw_df.isna().sum()"
   ]
  },
  {
   "cell_type": "code",
   "execution_count": 16,
   "metadata": {},
   "outputs": [
    {
     "data": {
      "text/plain": [
       "Country name                                  0\n",
       "Regional indicator                            0\n",
       "Ladder score                                  0\n",
       "Standard error of ladder score                0\n",
       "upperwhisker                                  0\n",
       "lowerwhisker                                  0\n",
       "Logged GDP per capita                         0\n",
       "Social support                                0\n",
       "Healthy life expectancy                       0\n",
       "Freedom to make life choices                  0\n",
       "Generosity                                    0\n",
       "Perceptions of corruption                     0\n",
       "Ladder score in Dystopia                      0\n",
       "Explained by: Log GDP per capita              0\n",
       "Explained by: Social support                  0\n",
       "Explained by: Healthy life expectancy         0\n",
       "Explained by: Freedom to make life choices    0\n",
       "Explained by: Generosity                      0\n",
       "Explained by: Perceptions of corruption       0\n",
       "Dystopia + residual                           0\n",
       "dtype: int64"
      ]
     },
     "execution_count": 16,
     "metadata": {},
     "output_type": "execute_result"
    }
   ],
   "source": [
    "wh2020_raw_df.isna().sum()"
   ]
  },
  {
   "cell_type": "markdown",
   "metadata": {},
   "source": [
    "There are no duplicates or missing data in either of the dataframes."
   ]
  },
  {
   "cell_type": "markdown",
   "metadata": {},
   "source": [
    "Before we move forward and make any modifications, we will want to create a copy of each dataset into a new dataframe so that, if needed, we can make changes to them without affecting the original datasets. \n",
    "\n",
    "Use the `copy` method to create a copy of the original dataset into a new dataframe."
   ]
  },
  {
   "cell_type": "code",
   "execution_count": 17,
   "metadata": {},
   "outputs": [],
   "source": [
    "wh2019_df = wh2019_raw_df.copy()\n",
    "wh2020_df = wh2020_raw_df.copy()"
   ]
  },
  {
   "cell_type": "markdown",
   "metadata": {},
   "source": [
    "As we noticed earlier, the 2020 dataset has less rows and more columns than the 2019 dataset. The rows represent the number of countries surveyed, so we will not change those in the datasets; however, we will need to modify the columns in the datasets.\n",
    "\n",
    "There are 8 columns that match in both datasets:\n",
    "- Country or region\n",
    "- (Happiness) Score\t\n",
    "- GDP per capita\n",
    "- Social support\n",
    "- Healthy life expectancy\n",
    "- Freedom to make life choices\n",
    "- Generosity\n",
    "- Perceptions of corruption"
   ]
  },
  {
   "cell_type": "markdown",
   "metadata": {},
   "source": [
    "The 2019 dataset (`wh_2019_df`) has the column `'Overall rank'` that does not appear in the 2020 dataset. We could remove it, but it might helpful to see the ranking of the countries, so we will keep it. Otherwise, the columns are the same and there is no need to modify it."
   ]
  },
  {
   "cell_type": "markdown",
   "metadata": {},
   "source": [
    "The 2020 dataset (`wh2020_df`) will need to be modified in a few ways: \n",
    "1. Add a new column\n",
    "2. Downsize multiple columns\n",
    "3. Rename columns\n",
    "\n",
    "When making modifications, set it equal to the dataframe itself so that the dataframe is directly updated."
   ]
  },
  {
   "cell_type": "markdown",
   "metadata": {},
   "source": [
    "**Add a column:** Use the `sort_values` method to sort the `wh2020_df` dataframe by the happiness score (`'Ladder score'` column) in descending order. We will then be able to add another column for the overall rank, which is the rank of each country by happiness score, to match the overall rank column in `wh2019_df`."
   ]
  },
  {
   "cell_type": "code",
   "execution_count": 18,
   "metadata": {},
   "outputs": [],
   "source": [
    "wh2020_df = wh2020_df.sort_values(by='Ladder score', ascending=False)\n",
    "wh2020_df['Overall rank'] = pd.Series(np.arange(1, 154))"
   ]
  },
  {
   "cell_type": "markdown",
   "metadata": {},
   "source": [
    "**Downsize columns:** We will select all the columns from `wh2020_df` according to the list of columns in common between both datasets, so that the dataframe contains only the columns we need."
   ]
  },
  {
   "cell_type": "code",
   "execution_count": 19,
   "metadata": {},
   "outputs": [],
   "source": [
    "wh2020_df = wh2020_df[['Overall rank', 'Country name', 'Ladder score', 'Explained by: Log GDP per capita', \n",
    "                       'Social support', 'Explained by: Healthy life expectancy', 'Freedom to make life choices', 'Generosity', \n",
    "                       'Perceptions of corruption']]"
   ]
  },
  {
   "cell_type": "markdown",
   "metadata": {},
   "source": [
    "**Rename columns:** Use the `rename` method to rename some of the columns, so that we have consistency between the datasets. "
   ]
  },
  {
   "cell_type": "code",
   "execution_count": 20,
   "metadata": {},
   "outputs": [
    {
     "data": {
      "text/html": [
       "<div>\n",
       "<style scoped>\n",
       "    .dataframe tbody tr th:only-of-type {\n",
       "        vertical-align: middle;\n",
       "    }\n",
       "\n",
       "    .dataframe tbody tr th {\n",
       "        vertical-align: top;\n",
       "    }\n",
       "\n",
       "    .dataframe thead th {\n",
       "        text-align: right;\n",
       "    }\n",
       "</style>\n",
       "<table border=\"1\" class=\"dataframe\">\n",
       "  <thead>\n",
       "    <tr style=\"text-align: right;\">\n",
       "      <th></th>\n",
       "      <th>Overall rank</th>\n",
       "      <th>Country or region</th>\n",
       "      <th>Score</th>\n",
       "      <th>GDP per capita</th>\n",
       "      <th>Social support</th>\n",
       "      <th>Healthy life expectancy</th>\n",
       "      <th>Freedom to make life choices</th>\n",
       "      <th>Generosity</th>\n",
       "      <th>Perceptions of corruption</th>\n",
       "    </tr>\n",
       "  </thead>\n",
       "  <tbody>\n",
       "    <tr>\n",
       "      <th>0</th>\n",
       "      <td>1</td>\n",
       "      <td>Finland</td>\n",
       "      <td>7.8087</td>\n",
       "      <td>1.285190</td>\n",
       "      <td>0.954330</td>\n",
       "      <td>0.961271</td>\n",
       "      <td>0.949172</td>\n",
       "      <td>-0.059482</td>\n",
       "      <td>0.195445</td>\n",
       "    </tr>\n",
       "    <tr>\n",
       "      <th>1</th>\n",
       "      <td>2</td>\n",
       "      <td>Denmark</td>\n",
       "      <td>7.6456</td>\n",
       "      <td>1.326949</td>\n",
       "      <td>0.955991</td>\n",
       "      <td>0.979333</td>\n",
       "      <td>0.951444</td>\n",
       "      <td>0.066202</td>\n",
       "      <td>0.168489</td>\n",
       "    </tr>\n",
       "    <tr>\n",
       "      <th>2</th>\n",
       "      <td>3</td>\n",
       "      <td>Switzerland</td>\n",
       "      <td>7.5599</td>\n",
       "      <td>1.390774</td>\n",
       "      <td>0.942847</td>\n",
       "      <td>1.040533</td>\n",
       "      <td>0.921337</td>\n",
       "      <td>0.105911</td>\n",
       "      <td>0.303728</td>\n",
       "    </tr>\n",
       "    <tr>\n",
       "      <th>3</th>\n",
       "      <td>4</td>\n",
       "      <td>Iceland</td>\n",
       "      <td>7.5045</td>\n",
       "      <td>1.326502</td>\n",
       "      <td>0.974670</td>\n",
       "      <td>1.000843</td>\n",
       "      <td>0.948892</td>\n",
       "      <td>0.246944</td>\n",
       "      <td>0.711710</td>\n",
       "    </tr>\n",
       "    <tr>\n",
       "      <th>4</th>\n",
       "      <td>5</td>\n",
       "      <td>Norway</td>\n",
       "      <td>7.4880</td>\n",
       "      <td>1.424207</td>\n",
       "      <td>0.952487</td>\n",
       "      <td>1.008072</td>\n",
       "      <td>0.955750</td>\n",
       "      <td>0.134533</td>\n",
       "      <td>0.263218</td>\n",
       "    </tr>\n",
       "    <tr>\n",
       "      <th>...</th>\n",
       "      <td>...</td>\n",
       "      <td>...</td>\n",
       "      <td>...</td>\n",
       "      <td>...</td>\n",
       "      <td>...</td>\n",
       "      <td>...</td>\n",
       "      <td>...</td>\n",
       "      <td>...</td>\n",
       "      <td>...</td>\n",
       "    </tr>\n",
       "    <tr>\n",
       "      <th>148</th>\n",
       "      <td>149</td>\n",
       "      <td>Central African Republic</td>\n",
       "      <td>3.4759</td>\n",
       "      <td>0.041072</td>\n",
       "      <td>0.319460</td>\n",
       "      <td>0.000000</td>\n",
       "      <td>0.640881</td>\n",
       "      <td>0.082410</td>\n",
       "      <td>0.891807</td>\n",
       "    </tr>\n",
       "    <tr>\n",
       "      <th>149</th>\n",
       "      <td>150</td>\n",
       "      <td>Rwanda</td>\n",
       "      <td>3.3123</td>\n",
       "      <td>0.343243</td>\n",
       "      <td>0.540835</td>\n",
       "      <td>0.572383</td>\n",
       "      <td>0.900589</td>\n",
       "      <td>0.055484</td>\n",
       "      <td>0.183541</td>\n",
       "    </tr>\n",
       "    <tr>\n",
       "      <th>150</th>\n",
       "      <td>151</td>\n",
       "      <td>Zimbabwe</td>\n",
       "      <td>3.2992</td>\n",
       "      <td>0.425564</td>\n",
       "      <td>0.763093</td>\n",
       "      <td>0.375038</td>\n",
       "      <td>0.711458</td>\n",
       "      <td>-0.072064</td>\n",
       "      <td>0.810237</td>\n",
       "    </tr>\n",
       "    <tr>\n",
       "      <th>151</th>\n",
       "      <td>152</td>\n",
       "      <td>South Sudan</td>\n",
       "      <td>2.8166</td>\n",
       "      <td>0.289083</td>\n",
       "      <td>0.553707</td>\n",
       "      <td>0.208809</td>\n",
       "      <td>0.451314</td>\n",
       "      <td>0.016519</td>\n",
       "      <td>0.763417</td>\n",
       "    </tr>\n",
       "    <tr>\n",
       "      <th>152</th>\n",
       "      <td>153</td>\n",
       "      <td>Afghanistan</td>\n",
       "      <td>2.5669</td>\n",
       "      <td>0.300706</td>\n",
       "      <td>0.470367</td>\n",
       "      <td>0.266052</td>\n",
       "      <td>0.396573</td>\n",
       "      <td>-0.096429</td>\n",
       "      <td>0.933687</td>\n",
       "    </tr>\n",
       "  </tbody>\n",
       "</table>\n",
       "<p>153 rows × 9 columns</p>\n",
       "</div>"
      ],
      "text/plain": [
       "     Overall rank         Country or region   Score  GDP per capita  \\\n",
       "0               1                   Finland  7.8087        1.285190   \n",
       "1               2                   Denmark  7.6456        1.326949   \n",
       "2               3               Switzerland  7.5599        1.390774   \n",
       "3               4                   Iceland  7.5045        1.326502   \n",
       "4               5                    Norway  7.4880        1.424207   \n",
       "..            ...                       ...     ...             ...   \n",
       "148           149  Central African Republic  3.4759        0.041072   \n",
       "149           150                    Rwanda  3.3123        0.343243   \n",
       "150           151                  Zimbabwe  3.2992        0.425564   \n",
       "151           152               South Sudan  2.8166        0.289083   \n",
       "152           153               Afghanistan  2.5669        0.300706   \n",
       "\n",
       "     Social support  Healthy life expectancy  Freedom to make life choices  \\\n",
       "0          0.954330                 0.961271                      0.949172   \n",
       "1          0.955991                 0.979333                      0.951444   \n",
       "2          0.942847                 1.040533                      0.921337   \n",
       "3          0.974670                 1.000843                      0.948892   \n",
       "4          0.952487                 1.008072                      0.955750   \n",
       "..              ...                      ...                           ...   \n",
       "148        0.319460                 0.000000                      0.640881   \n",
       "149        0.540835                 0.572383                      0.900589   \n",
       "150        0.763093                 0.375038                      0.711458   \n",
       "151        0.553707                 0.208809                      0.451314   \n",
       "152        0.470367                 0.266052                      0.396573   \n",
       "\n",
       "     Generosity  Perceptions of corruption  \n",
       "0     -0.059482                   0.195445  \n",
       "1      0.066202                   0.168489  \n",
       "2      0.105911                   0.303728  \n",
       "3      0.246944                   0.711710  \n",
       "4      0.134533                   0.263218  \n",
       "..          ...                        ...  \n",
       "148    0.082410                   0.891807  \n",
       "149    0.055484                   0.183541  \n",
       "150   -0.072064                   0.810237  \n",
       "151    0.016519                   0.763417  \n",
       "152   -0.096429                   0.933687  \n",
       "\n",
       "[153 rows x 9 columns]"
      ]
     },
     "execution_count": 20,
     "metadata": {},
     "output_type": "execute_result"
    }
   ],
   "source": [
    "wh2020_df = wh2020_df.rename(columns={'Country name':'Country or region', 'Ladder score':'Score', \n",
    "                          'Explained by: Log GDP per capita':'GDP per capita', \n",
    "                          'Explained by: Healthy life expectancy':'Healthy life expectancy'})\n",
    "wh2020_df"
   ]
  },
  {
   "cell_type": "code",
   "execution_count": 339,
   "metadata": {},
   "outputs": [],
   "source": [
    "import jovian"
   ]
  },
  {
   "cell_type": "code",
   "execution_count": 340,
   "metadata": {},
   "outputs": [
    {
     "data": {
      "application/javascript": [
       "window.require && require([\"base/js/namespace\"],function(Jupyter){Jupyter.notebook.save_checkpoint()})"
      ],
      "text/plain": [
       "<IPython.core.display.Javascript object>"
      ]
     },
     "metadata": {},
     "output_type": "display_data"
    },
    {
     "name": "stdout",
     "output_type": "stream",
     "text": [
      "[jovian] Updating notebook \"ajchen97/world-happiness-eda\" on https://jovian.com\u001b[0m\n",
      "[jovian] Committed successfully! https://jovian.com/ajchen97/world-happiness-eda\u001b[0m\n"
     ]
    },
    {
     "data": {
      "text/plain": [
       "'https://jovian.com/ajchen97/world-happiness-eda'"
      ]
     },
     "execution_count": 340,
     "metadata": {},
     "output_type": "execute_result"
    }
   ],
   "source": [
    "jovian.commit()"
   ]
  },
  {
   "cell_type": "markdown",
   "metadata": {},
   "source": [
    "## Exploratory Analysis and Visualization\n",
    "\n",
    "In this section, we will perform exploratory data analysis on the dataset to better understand the data. We will compute and review the statistics of the dataset and create graphs to visualize the distributions of and relationships between columns."
   ]
  },
  {
   "cell_type": "markdown",
   "metadata": {},
   "source": [
    "Let's begin by importing`matplotlib.pyplot` and `seaborn`."
   ]
  },
  {
   "cell_type": "code",
   "execution_count": 21,
   "metadata": {},
   "outputs": [],
   "source": [
    "import seaborn as sns\n",
    "import matplotlib\n",
    "import matplotlib.pyplot as plt\n",
    "%matplotlib inline\n",
    "\n",
    "sns.set_style('darkgrid')\n",
    "matplotlib.rcParams['font.size'] = 14\n",
    "matplotlib.rcParams['figure.figsize'] = (9, 5)\n",
    "matplotlib.rcParams['figure.facecolor'] = '#00000000'"
   ]
  },
  {
   "cell_type": "markdown",
   "metadata": {},
   "source": [
    "#### Correlation Between Columns"
   ]
  },
  {
   "cell_type": "markdown",
   "metadata": {},
   "source": [
    "We will take a look at the correlations between the happiness score and the variables that may contribute to the score, and visualize it with a heatmap. Use the `corr` method to find the correlations between each column in the datasets."
   ]
  },
  {
   "cell_type": "code",
   "execution_count": 22,
   "metadata": {},
   "outputs": [
    {
     "data": {
      "text/html": [
       "<div>\n",
       "<style scoped>\n",
       "    .dataframe tbody tr th:only-of-type {\n",
       "        vertical-align: middle;\n",
       "    }\n",
       "\n",
       "    .dataframe tbody tr th {\n",
       "        vertical-align: top;\n",
       "    }\n",
       "\n",
       "    .dataframe thead th {\n",
       "        text-align: right;\n",
       "    }\n",
       "</style>\n",
       "<table border=\"1\" class=\"dataframe\">\n",
       "  <thead>\n",
       "    <tr style=\"text-align: right;\">\n",
       "      <th></th>\n",
       "      <th>Overall rank</th>\n",
       "      <th>Score</th>\n",
       "      <th>GDP per capita</th>\n",
       "      <th>Social support</th>\n",
       "      <th>Healthy life expectancy</th>\n",
       "      <th>Freedom to make life choices</th>\n",
       "      <th>Generosity</th>\n",
       "      <th>Perceptions of corruption</th>\n",
       "    </tr>\n",
       "  </thead>\n",
       "  <tbody>\n",
       "    <tr>\n",
       "      <th>Overall rank</th>\n",
       "      <td>1.000000</td>\n",
       "      <td>-0.989096</td>\n",
       "      <td>-0.801947</td>\n",
       "      <td>-0.767465</td>\n",
       "      <td>-0.787411</td>\n",
       "      <td>-0.546606</td>\n",
       "      <td>-0.047993</td>\n",
       "      <td>-0.351959</td>\n",
       "    </tr>\n",
       "    <tr>\n",
       "      <th>Score</th>\n",
       "      <td>-0.989096</td>\n",
       "      <td>1.000000</td>\n",
       "      <td>0.793883</td>\n",
       "      <td>0.777058</td>\n",
       "      <td>0.779883</td>\n",
       "      <td>0.566742</td>\n",
       "      <td>0.075824</td>\n",
       "      <td>0.385613</td>\n",
       "    </tr>\n",
       "    <tr>\n",
       "      <th>GDP per capita</th>\n",
       "      <td>-0.801947</td>\n",
       "      <td>0.793883</td>\n",
       "      <td>1.000000</td>\n",
       "      <td>0.754906</td>\n",
       "      <td>0.835462</td>\n",
       "      <td>0.379079</td>\n",
       "      <td>-0.079662</td>\n",
       "      <td>0.298920</td>\n",
       "    </tr>\n",
       "    <tr>\n",
       "      <th>Social support</th>\n",
       "      <td>-0.767465</td>\n",
       "      <td>0.777058</td>\n",
       "      <td>0.754906</td>\n",
       "      <td>1.000000</td>\n",
       "      <td>0.719009</td>\n",
       "      <td>0.447333</td>\n",
       "      <td>-0.048126</td>\n",
       "      <td>0.181899</td>\n",
       "    </tr>\n",
       "    <tr>\n",
       "      <th>Healthy life expectancy</th>\n",
       "      <td>-0.787411</td>\n",
       "      <td>0.779883</td>\n",
       "      <td>0.835462</td>\n",
       "      <td>0.719009</td>\n",
       "      <td>1.000000</td>\n",
       "      <td>0.390395</td>\n",
       "      <td>-0.029511</td>\n",
       "      <td>0.295283</td>\n",
       "    </tr>\n",
       "    <tr>\n",
       "      <th>Freedom to make life choices</th>\n",
       "      <td>-0.546606</td>\n",
       "      <td>0.566742</td>\n",
       "      <td>0.379079</td>\n",
       "      <td>0.447333</td>\n",
       "      <td>0.390395</td>\n",
       "      <td>1.000000</td>\n",
       "      <td>0.269742</td>\n",
       "      <td>0.438843</td>\n",
       "    </tr>\n",
       "    <tr>\n",
       "      <th>Generosity</th>\n",
       "      <td>-0.047993</td>\n",
       "      <td>0.075824</td>\n",
       "      <td>-0.079662</td>\n",
       "      <td>-0.048126</td>\n",
       "      <td>-0.029511</td>\n",
       "      <td>0.269742</td>\n",
       "      <td>1.000000</td>\n",
       "      <td>0.326538</td>\n",
       "    </tr>\n",
       "    <tr>\n",
       "      <th>Perceptions of corruption</th>\n",
       "      <td>-0.351959</td>\n",
       "      <td>0.385613</td>\n",
       "      <td>0.298920</td>\n",
       "      <td>0.181899</td>\n",
       "      <td>0.295283</td>\n",
       "      <td>0.438843</td>\n",
       "      <td>0.326538</td>\n",
       "      <td>1.000000</td>\n",
       "    </tr>\n",
       "  </tbody>\n",
       "</table>\n",
       "</div>"
      ],
      "text/plain": [
       "                              Overall rank     Score  GDP per capita  \\\n",
       "Overall rank                      1.000000 -0.989096       -0.801947   \n",
       "Score                            -0.989096  1.000000        0.793883   \n",
       "GDP per capita                   -0.801947  0.793883        1.000000   \n",
       "Social support                   -0.767465  0.777058        0.754906   \n",
       "Healthy life expectancy          -0.787411  0.779883        0.835462   \n",
       "Freedom to make life choices     -0.546606  0.566742        0.379079   \n",
       "Generosity                       -0.047993  0.075824       -0.079662   \n",
       "Perceptions of corruption        -0.351959  0.385613        0.298920   \n",
       "\n",
       "                              Social support  Healthy life expectancy  \\\n",
       "Overall rank                       -0.767465                -0.787411   \n",
       "Score                               0.777058                 0.779883   \n",
       "GDP per capita                      0.754906                 0.835462   \n",
       "Social support                      1.000000                 0.719009   \n",
       "Healthy life expectancy             0.719009                 1.000000   \n",
       "Freedom to make life choices        0.447333                 0.390395   \n",
       "Generosity                         -0.048126                -0.029511   \n",
       "Perceptions of corruption           0.181899                 0.295283   \n",
       "\n",
       "                              Freedom to make life choices  Generosity  \\\n",
       "Overall rank                                     -0.546606   -0.047993   \n",
       "Score                                             0.566742    0.075824   \n",
       "GDP per capita                                    0.379079   -0.079662   \n",
       "Social support                                    0.447333   -0.048126   \n",
       "Healthy life expectancy                           0.390395   -0.029511   \n",
       "Freedom to make life choices                      1.000000    0.269742   \n",
       "Generosity                                        0.269742    1.000000   \n",
       "Perceptions of corruption                         0.438843    0.326538   \n",
       "\n",
       "                              Perceptions of corruption  \n",
       "Overall rank                                  -0.351959  \n",
       "Score                                          0.385613  \n",
       "GDP per capita                                 0.298920  \n",
       "Social support                                 0.181899  \n",
       "Healthy life expectancy                        0.295283  \n",
       "Freedom to make life choices                   0.438843  \n",
       "Generosity                                     0.326538  \n",
       "Perceptions of corruption                      1.000000  "
      ]
     },
     "execution_count": 22,
     "metadata": {},
     "output_type": "execute_result"
    }
   ],
   "source": [
    "wh2019_df.corr()"
   ]
  },
  {
   "cell_type": "code",
   "execution_count": 23,
   "metadata": {},
   "outputs": [
    {
     "data": {
      "text/html": [
       "<div>\n",
       "<style scoped>\n",
       "    .dataframe tbody tr th:only-of-type {\n",
       "        vertical-align: middle;\n",
       "    }\n",
       "\n",
       "    .dataframe tbody tr th {\n",
       "        vertical-align: top;\n",
       "    }\n",
       "\n",
       "    .dataframe thead th {\n",
       "        text-align: right;\n",
       "    }\n",
       "</style>\n",
       "<table border=\"1\" class=\"dataframe\">\n",
       "  <thead>\n",
       "    <tr style=\"text-align: right;\">\n",
       "      <th></th>\n",
       "      <th>Overall rank</th>\n",
       "      <th>Score</th>\n",
       "      <th>GDP per capita</th>\n",
       "      <th>Social support</th>\n",
       "      <th>Healthy life expectancy</th>\n",
       "      <th>Freedom to make life choices</th>\n",
       "      <th>Generosity</th>\n",
       "      <th>Perceptions of corruption</th>\n",
       "    </tr>\n",
       "  </thead>\n",
       "  <tbody>\n",
       "    <tr>\n",
       "      <th>Overall rank</th>\n",
       "      <td>1.000000</td>\n",
       "      <td>-0.985263</td>\n",
       "      <td>-0.777302</td>\n",
       "      <td>-0.749488</td>\n",
       "      <td>-0.769746</td>\n",
       "      <td>-0.583441</td>\n",
       "      <td>-0.044922</td>\n",
       "      <td>0.394355</td>\n",
       "    </tr>\n",
       "    <tr>\n",
       "      <th>Score</th>\n",
       "      <td>-0.985263</td>\n",
       "      <td>1.000000</td>\n",
       "      <td>0.775374</td>\n",
       "      <td>0.765001</td>\n",
       "      <td>0.770316</td>\n",
       "      <td>0.590597</td>\n",
       "      <td>0.069043</td>\n",
       "      <td>-0.418305</td>\n",
       "    </tr>\n",
       "    <tr>\n",
       "      <th>GDP per capita</th>\n",
       "      <td>-0.777302</td>\n",
       "      <td>0.775374</td>\n",
       "      <td>1.000000</td>\n",
       "      <td>0.781814</td>\n",
       "      <td>0.848469</td>\n",
       "      <td>0.419019</td>\n",
       "      <td>-0.118399</td>\n",
       "      <td>-0.334729</td>\n",
       "    </tr>\n",
       "    <tr>\n",
       "      <th>Social support</th>\n",
       "      <td>-0.749488</td>\n",
       "      <td>0.765001</td>\n",
       "      <td>0.781814</td>\n",
       "      <td>1.000000</td>\n",
       "      <td>0.742744</td>\n",
       "      <td>0.478863</td>\n",
       "      <td>-0.056780</td>\n",
       "      <td>-0.210530</td>\n",
       "    </tr>\n",
       "    <tr>\n",
       "      <th>Healthy life expectancy</th>\n",
       "      <td>-0.769746</td>\n",
       "      <td>0.770316</td>\n",
       "      <td>0.848469</td>\n",
       "      <td>0.742744</td>\n",
       "      <td>1.000000</td>\n",
       "      <td>0.448846</td>\n",
       "      <td>-0.071852</td>\n",
       "      <td>-0.353841</td>\n",
       "    </tr>\n",
       "    <tr>\n",
       "      <th>Freedom to make life choices</th>\n",
       "      <td>-0.583441</td>\n",
       "      <td>0.590597</td>\n",
       "      <td>0.419019</td>\n",
       "      <td>0.478863</td>\n",
       "      <td>0.448846</td>\n",
       "      <td>1.000000</td>\n",
       "      <td>0.253721</td>\n",
       "      <td>-0.420145</td>\n",
       "    </tr>\n",
       "    <tr>\n",
       "      <th>Generosity</th>\n",
       "      <td>-0.044922</td>\n",
       "      <td>0.069043</td>\n",
       "      <td>-0.118399</td>\n",
       "      <td>-0.056780</td>\n",
       "      <td>-0.071852</td>\n",
       "      <td>0.253721</td>\n",
       "      <td>1.000000</td>\n",
       "      <td>-0.278480</td>\n",
       "    </tr>\n",
       "    <tr>\n",
       "      <th>Perceptions of corruption</th>\n",
       "      <td>0.394355</td>\n",
       "      <td>-0.418305</td>\n",
       "      <td>-0.334729</td>\n",
       "      <td>-0.210530</td>\n",
       "      <td>-0.353841</td>\n",
       "      <td>-0.420145</td>\n",
       "      <td>-0.278480</td>\n",
       "      <td>1.000000</td>\n",
       "    </tr>\n",
       "  </tbody>\n",
       "</table>\n",
       "</div>"
      ],
      "text/plain": [
       "                              Overall rank     Score  GDP per capita  \\\n",
       "Overall rank                      1.000000 -0.985263       -0.777302   \n",
       "Score                            -0.985263  1.000000        0.775374   \n",
       "GDP per capita                   -0.777302  0.775374        1.000000   \n",
       "Social support                   -0.749488  0.765001        0.781814   \n",
       "Healthy life expectancy          -0.769746  0.770316        0.848469   \n",
       "Freedom to make life choices     -0.583441  0.590597        0.419019   \n",
       "Generosity                       -0.044922  0.069043       -0.118399   \n",
       "Perceptions of corruption         0.394355 -0.418305       -0.334729   \n",
       "\n",
       "                              Social support  Healthy life expectancy  \\\n",
       "Overall rank                       -0.749488                -0.769746   \n",
       "Score                               0.765001                 0.770316   \n",
       "GDP per capita                      0.781814                 0.848469   \n",
       "Social support                      1.000000                 0.742744   \n",
       "Healthy life expectancy             0.742744                 1.000000   \n",
       "Freedom to make life choices        0.478863                 0.448846   \n",
       "Generosity                         -0.056780                -0.071852   \n",
       "Perceptions of corruption          -0.210530                -0.353841   \n",
       "\n",
       "                              Freedom to make life choices  Generosity  \\\n",
       "Overall rank                                     -0.583441   -0.044922   \n",
       "Score                                             0.590597    0.069043   \n",
       "GDP per capita                                    0.419019   -0.118399   \n",
       "Social support                                    0.478863   -0.056780   \n",
       "Healthy life expectancy                           0.448846   -0.071852   \n",
       "Freedom to make life choices                      1.000000    0.253721   \n",
       "Generosity                                        0.253721    1.000000   \n",
       "Perceptions of corruption                        -0.420145   -0.278480   \n",
       "\n",
       "                              Perceptions of corruption  \n",
       "Overall rank                                   0.394355  \n",
       "Score                                         -0.418305  \n",
       "GDP per capita                                -0.334729  \n",
       "Social support                                -0.210530  \n",
       "Healthy life expectancy                       -0.353841  \n",
       "Freedom to make life choices                  -0.420145  \n",
       "Generosity                                    -0.278480  \n",
       "Perceptions of corruption                      1.000000  "
      ]
     },
     "execution_count": 23,
     "metadata": {},
     "output_type": "execute_result"
    }
   ],
   "source": [
    "wh2020_df.corr()"
   ]
  },
  {
   "cell_type": "markdown",
   "metadata": {},
   "source": [
    "Use `plt.figure` to specify the size of the figure and `plt.subplot` to draw multiple plots in one figure, then use `sns.heatmap` to visualize the correlation between each column. We also use `sns.diverging_palette` to create a customized colormap (`cmap`) with two colors to differentiate positive and negative correlation."
   ]
  },
  {
   "cell_type": "code",
   "execution_count": 24,
   "metadata": {},
   "outputs": [
    {
     "data": {
      "image/png": "[encoded data removed]",
      "text/plain": [
       "<Figure size 2160x720 with 4 Axes>"
      ]
     },
     "metadata": {
      "needs_background": "light"
     },
     "output_type": "display_data"
    }
   ],
   "source": [
    "plt.figure(figsize=(30, 10))\n",
    "plt.suptitle(\"Correlations: 2019 vs 2020           \", fontsize=30)\n",
    "cmap = sns.diverging_palette(230, 20, as_cmap=True)\n",
    "\n",
    "plt.subplot(1, 2, 1)\n",
    "plt.title(\"2019\", fontsize=25)\n",
    "plt.xticks(rotation=75)\n",
    "sns.heatmap(wh2019_df.corr(), annot=True, cmap=cmap);\n",
    "\n",
    "plt.subplot(1, 2, 2)\n",
    "plt.title(\"2020\", fontsize=25)\n",
    "plt.xticks(rotation=75)\n",
    "sns.heatmap(wh2020_df.corr(), annot=True, cmap=cmap);"
   ]
  },
  {
   "cell_type": "markdown",
   "metadata": {},
   "source": [
    "The heatmap shows the correlation between each column. They each have a perfect (1:1) correlation to themselves.\n",
    "\n",
    "Red indicates positive correlation; the darker red means that it is more likely the column has a positive effect on the other column (one goes up, the other goes up) and the lighter red means that it is less likely the column has an affect on the other column.\n",
    "\n",
    "Blue indicates negative correlation; the darker blue means that it is more likely the column has a negative effect on the other column (one goes up, the other goes down) and the lighter blue means that it is less likely the column has an affect on the other column."
   ]
  },
  {
   "cell_type": "markdown",
   "metadata": {},
   "source": [
    "Looking at the visual above, it looks like most correlations from 2019 and 2020 have fairly similar numbers, except for `Perceptions of corruption`, which seems to have gone from a positive correlation with every other column to a negative correlation with every other column. However, the numbers are still very small, which means it is unlikely one column has an affect on another."
   ]
  },
  {
   "cell_type": "markdown",
   "metadata": {},
   "source": [
    "#### Happiness Score Distribution"
   ]
  },
  {
   "cell_type": "markdown",
   "metadata": {},
   "source": [
    "We will graph a histogram to show the distribution of the happiness score for all countries in each dataframe.\n",
    "\n",
    "Let's start with looking at the statistics for each dataset; use the `describe` method to view some basic stats about the dataset."
   ]
  },
  {
   "cell_type": "code",
   "execution_count": 25,
   "metadata": {
    "scrolled": true
   },
   "outputs": [
    {
     "data": {
      "text/html": [
       "<div>\n",
       "<style scoped>\n",
       "    .dataframe tbody tr th:only-of-type {\n",
       "        vertical-align: middle;\n",
       "    }\n",
       "\n",
       "    .dataframe tbody tr th {\n",
       "        vertical-align: top;\n",
       "    }\n",
       "\n",
       "    .dataframe thead th {\n",
       "        text-align: right;\n",
       "    }\n",
       "</style>\n",
       "<table border=\"1\" class=\"dataframe\">\n",
       "  <thead>\n",
       "    <tr style=\"text-align: right;\">\n",
       "      <th></th>\n",
       "      <th>Overall rank</th>\n",
       "      <th>Score</th>\n",
       "      <th>GDP per capita</th>\n",
       "      <th>Social support</th>\n",
       "      <th>Healthy life expectancy</th>\n",
       "      <th>Freedom to make life choices</th>\n",
       "      <th>Generosity</th>\n",
       "      <th>Perceptions of corruption</th>\n",
       "    </tr>\n",
       "  </thead>\n",
       "  <tbody>\n",
       "    <tr>\n",
       "      <th>count</th>\n",
       "      <td>156.000000</td>\n",
       "      <td>156.000000</td>\n",
       "      <td>156.000000</td>\n",
       "      <td>156.000000</td>\n",
       "      <td>156.000000</td>\n",
       "      <td>156.000000</td>\n",
       "      <td>156.000000</td>\n",
       "      <td>156.000000</td>\n",
       "    </tr>\n",
       "    <tr>\n",
       "      <th>mean</th>\n",
       "      <td>78.500000</td>\n",
       "      <td>5.407096</td>\n",
       "      <td>0.905147</td>\n",
       "      <td>1.208814</td>\n",
       "      <td>0.725244</td>\n",
       "      <td>0.392571</td>\n",
       "      <td>0.184846</td>\n",
       "      <td>0.110603</td>\n",
       "    </tr>\n",
       "    <tr>\n",
       "      <th>std</th>\n",
       "      <td>45.177428</td>\n",
       "      <td>1.113120</td>\n",
       "      <td>0.398389</td>\n",
       "      <td>0.299191</td>\n",
       "      <td>0.242124</td>\n",
       "      <td>0.143289</td>\n",
       "      <td>0.095254</td>\n",
       "      <td>0.094538</td>\n",
       "    </tr>\n",
       "    <tr>\n",
       "      <th>min</th>\n",
       "      <td>1.000000</td>\n",
       "      <td>2.853000</td>\n",
       "      <td>0.000000</td>\n",
       "      <td>0.000000</td>\n",
       "      <td>0.000000</td>\n",
       "      <td>0.000000</td>\n",
       "      <td>0.000000</td>\n",
       "      <td>0.000000</td>\n",
       "    </tr>\n",
       "    <tr>\n",
       "      <th>25%</th>\n",
       "      <td>39.750000</td>\n",
       "      <td>4.544500</td>\n",
       "      <td>0.602750</td>\n",
       "      <td>1.055750</td>\n",
       "      <td>0.547750</td>\n",
       "      <td>0.308000</td>\n",
       "      <td>0.108750</td>\n",
       "      <td>0.047000</td>\n",
       "    </tr>\n",
       "    <tr>\n",
       "      <th>50%</th>\n",
       "      <td>78.500000</td>\n",
       "      <td>5.379500</td>\n",
       "      <td>0.960000</td>\n",
       "      <td>1.271500</td>\n",
       "      <td>0.789000</td>\n",
       "      <td>0.417000</td>\n",
       "      <td>0.177500</td>\n",
       "      <td>0.085500</td>\n",
       "    </tr>\n",
       "    <tr>\n",
       "      <th>75%</th>\n",
       "      <td>117.250000</td>\n",
       "      <td>6.184500</td>\n",
       "      <td>1.232500</td>\n",
       "      <td>1.452500</td>\n",
       "      <td>0.881750</td>\n",
       "      <td>0.507250</td>\n",
       "      <td>0.248250</td>\n",
       "      <td>0.141250</td>\n",
       "    </tr>\n",
       "    <tr>\n",
       "      <th>max</th>\n",
       "      <td>156.000000</td>\n",
       "      <td>7.769000</td>\n",
       "      <td>1.684000</td>\n",
       "      <td>1.624000</td>\n",
       "      <td>1.141000</td>\n",
       "      <td>0.631000</td>\n",
       "      <td>0.566000</td>\n",
       "      <td>0.453000</td>\n",
       "    </tr>\n",
       "  </tbody>\n",
       "</table>\n",
       "</div>"
      ],
      "text/plain": [
       "       Overall rank       Score  GDP per capita  Social support  \\\n",
       "count    156.000000  156.000000      156.000000      156.000000   \n",
       "mean      78.500000    5.407096        0.905147        1.208814   \n",
       "std       45.177428    1.113120        0.398389        0.299191   \n",
       "min        1.000000    2.853000        0.000000        0.000000   \n",
       "25%       39.750000    4.544500        0.602750        1.055750   \n",
       "50%       78.500000    5.379500        0.960000        1.271500   \n",
       "75%      117.250000    6.184500        1.232500        1.452500   \n",
       "max      156.000000    7.769000        1.684000        1.624000   \n",
       "\n",
       "       Healthy life expectancy  Freedom to make life choices  Generosity  \\\n",
       "count               156.000000                    156.000000  156.000000   \n",
       "mean                  0.725244                      0.392571    0.184846   \n",
       "std                   0.242124                      0.143289    0.095254   \n",
       "min                   0.000000                      0.000000    0.000000   \n",
       "25%                   0.547750                      0.308000    0.108750   \n",
       "50%                   0.789000                      0.417000    0.177500   \n",
       "75%                   0.881750                      0.507250    0.248250   \n",
       "max                   1.141000                      0.631000    0.566000   \n",
       "\n",
       "       Perceptions of corruption  \n",
       "count                 156.000000  \n",
       "mean                    0.110603  \n",
       "std                     0.094538  \n",
       "min                     0.000000  \n",
       "25%                     0.047000  \n",
       "50%                     0.085500  \n",
       "75%                     0.141250  \n",
       "max                     0.453000  "
      ]
     },
     "execution_count": 25,
     "metadata": {},
     "output_type": "execute_result"
    }
   ],
   "source": [
    "wh2019_df.describe()"
   ]
  },
  {
   "cell_type": "code",
   "execution_count": 26,
   "metadata": {},
   "outputs": [
    {
     "data": {
      "text/html": [
       "<div>\n",
       "<style scoped>\n",
       "    .dataframe tbody tr th:only-of-type {\n",
       "        vertical-align: middle;\n",
       "    }\n",
       "\n",
       "    .dataframe tbody tr th {\n",
       "        vertical-align: top;\n",
       "    }\n",
       "\n",
       "    .dataframe thead th {\n",
       "        text-align: right;\n",
       "    }\n",
       "</style>\n",
       "<table border=\"1\" class=\"dataframe\">\n",
       "  <thead>\n",
       "    <tr style=\"text-align: right;\">\n",
       "      <th></th>\n",
       "      <th>Overall rank</th>\n",
       "      <th>Score</th>\n",
       "      <th>GDP per capita</th>\n",
       "      <th>Social support</th>\n",
       "      <th>Healthy life expectancy</th>\n",
       "      <th>Freedom to make life choices</th>\n",
       "      <th>Generosity</th>\n",
       "      <th>Perceptions of corruption</th>\n",
       "    </tr>\n",
       "  </thead>\n",
       "  <tbody>\n",
       "    <tr>\n",
       "      <th>count</th>\n",
       "      <td>153.000000</td>\n",
       "      <td>153.00000</td>\n",
       "      <td>153.000000</td>\n",
       "      <td>153.000000</td>\n",
       "      <td>153.000000</td>\n",
       "      <td>153.000000</td>\n",
       "      <td>153.000000</td>\n",
       "      <td>153.000000</td>\n",
       "    </tr>\n",
       "    <tr>\n",
       "      <th>mean</th>\n",
       "      <td>77.000000</td>\n",
       "      <td>5.47324</td>\n",
       "      <td>0.868771</td>\n",
       "      <td>0.808721</td>\n",
       "      <td>0.692869</td>\n",
       "      <td>0.783360</td>\n",
       "      <td>-0.014568</td>\n",
       "      <td>0.733120</td>\n",
       "    </tr>\n",
       "    <tr>\n",
       "      <th>std</th>\n",
       "      <td>44.311398</td>\n",
       "      <td>1.11227</td>\n",
       "      <td>0.372416</td>\n",
       "      <td>0.121453</td>\n",
       "      <td>0.254094</td>\n",
       "      <td>0.117786</td>\n",
       "      <td>0.151809</td>\n",
       "      <td>0.175172</td>\n",
       "    </tr>\n",
       "    <tr>\n",
       "      <th>min</th>\n",
       "      <td>1.000000</td>\n",
       "      <td>2.56690</td>\n",
       "      <td>0.000000</td>\n",
       "      <td>0.319460</td>\n",
       "      <td>0.000000</td>\n",
       "      <td>0.396573</td>\n",
       "      <td>-0.300907</td>\n",
       "      <td>0.109784</td>\n",
       "    </tr>\n",
       "    <tr>\n",
       "      <th>25%</th>\n",
       "      <td>39.000000</td>\n",
       "      <td>4.72410</td>\n",
       "      <td>0.575862</td>\n",
       "      <td>0.737217</td>\n",
       "      <td>0.495443</td>\n",
       "      <td>0.714839</td>\n",
       "      <td>-0.127015</td>\n",
       "      <td>0.683019</td>\n",
       "    </tr>\n",
       "    <tr>\n",
       "      <th>50%</th>\n",
       "      <td>77.000000</td>\n",
       "      <td>5.51500</td>\n",
       "      <td>0.918549</td>\n",
       "      <td>0.829204</td>\n",
       "      <td>0.759818</td>\n",
       "      <td>0.799805</td>\n",
       "      <td>-0.033665</td>\n",
       "      <td>0.783122</td>\n",
       "    </tr>\n",
       "    <tr>\n",
       "      <th>75%</th>\n",
       "      <td>115.000000</td>\n",
       "      <td>6.22850</td>\n",
       "      <td>1.169229</td>\n",
       "      <td>0.906747</td>\n",
       "      <td>0.867249</td>\n",
       "      <td>0.877709</td>\n",
       "      <td>0.085429</td>\n",
       "      <td>0.849151</td>\n",
       "    </tr>\n",
       "    <tr>\n",
       "      <th>max</th>\n",
       "      <td>153.000000</td>\n",
       "      <td>7.80870</td>\n",
       "      <td>1.536676</td>\n",
       "      <td>0.974670</td>\n",
       "      <td>1.137814</td>\n",
       "      <td>0.974998</td>\n",
       "      <td>0.560664</td>\n",
       "      <td>0.935585</td>\n",
       "    </tr>\n",
       "  </tbody>\n",
       "</table>\n",
       "</div>"
      ],
      "text/plain": [
       "       Overall rank      Score  GDP per capita  Social support  \\\n",
       "count    153.000000  153.00000      153.000000      153.000000   \n",
       "mean      77.000000    5.47324        0.868771        0.808721   \n",
       "std       44.311398    1.11227        0.372416        0.121453   \n",
       "min        1.000000    2.56690        0.000000        0.319460   \n",
       "25%       39.000000    4.72410        0.575862        0.737217   \n",
       "50%       77.000000    5.51500        0.918549        0.829204   \n",
       "75%      115.000000    6.22850        1.169229        0.906747   \n",
       "max      153.000000    7.80870        1.536676        0.974670   \n",
       "\n",
       "       Healthy life expectancy  Freedom to make life choices  Generosity  \\\n",
       "count               153.000000                    153.000000  153.000000   \n",
       "mean                  0.692869                      0.783360   -0.014568   \n",
       "std                   0.254094                      0.117786    0.151809   \n",
       "min                   0.000000                      0.396573   -0.300907   \n",
       "25%                   0.495443                      0.714839   -0.127015   \n",
       "50%                   0.759818                      0.799805   -0.033665   \n",
       "75%                   0.867249                      0.877709    0.085429   \n",
       "max                   1.137814                      0.974998    0.560664   \n",
       "\n",
       "       Perceptions of corruption  \n",
       "count                 153.000000  \n",
       "mean                    0.733120  \n",
       "std                     0.175172  \n",
       "min                     0.109784  \n",
       "25%                     0.683019  \n",
       "50%                     0.783122  \n",
       "75%                     0.849151  \n",
       "max                     0.935585  "
      ]
     },
     "execution_count": 26,
     "metadata": {},
     "output_type": "execute_result"
    }
   ],
   "source": [
    "wh2020_df.describe()"
   ]
  },
  {
   "cell_type": "markdown",
   "metadata": {},
   "source": [
    "Let's note some numbers (rounded to 2 decimals) for the happiness scores to use for the visualization.\n",
    "- Minimum: 2.85 (2019), 2.57 (2020)\n",
    "- Maximum: 7.77 (2019), 7.81 (2020)\n",
    "- Mean: 5.41 (2019), 5.47 (2020)\n",
    "- Standard deviation: 1.11 (both)"
   ]
  },
  {
   "cell_type": "markdown",
   "metadata": {},
   "source": [
    "Use `plt.subplot` to draw multiple plots in one figure and specify the figure shape, then use `plt.hist` to graph the histogram. The range (based on the min and max scores) will be from 2 to 9, measuring 0.5 in between. We will draw one histogram for each dataframe, and label the title, x-axis, and y-axis with `plt.title`, `plt.xlabel`, and `plt.ylabel`, accordingly."
   ]
  },
  {
   "cell_type": "code",
   "execution_count": 27,
   "metadata": {},
   "outputs": [
    {
     "data": {
      "image/png": "[encoded data removed]",
      "text/plain": [
       "<Figure size 1440x360 with 2 Axes>"
      ]
     },
     "metadata": {
      "needs_background": "light"
     },
     "output_type": "display_data"
    }
   ],
   "source": [
    "plt.figure(figsize=(20, 5))\n",
    "\n",
    "plt.subplot(1, 2, 1)\n",
    "plt.title(\"Distribution of Happiness Score in 2019\")\n",
    "plt.xlabel('happiness score')\n",
    "plt.ylabel('number of countries/regions')\n",
    "plt.hist(wh2019_df['Score'], bins=np.arange(2, 9, 0.5), color=\"steelblue\");\n",
    "\n",
    "plt.subplot(1, 2, 2)\n",
    "plt.title(\"Distribution of Happiness Score in 2020\")\n",
    "plt.xlabel('happiness score')\n",
    "plt.ylabel('number of countries/regions')\n",
    "plt.hist(wh2020_df['Score'], bins=np.arange(2, 9, 0.5), color=\"tomato\");"
   ]
  },
  {
   "cell_type": "markdown",
   "metadata": {},
   "source": [
    "We can also stack the histograms to see the difference between distributions for 2019 and 2020 and create a legend to differentiate them. We will need to import `matplotlib.patches` to use the `Patch` method to create an entry for the legend, then use `plt.legend` to create the legend."
   ]
  },
  {
   "cell_type": "code",
   "execution_count": 28,
   "metadata": {},
   "outputs": [],
   "source": [
    "import matplotlib.patches as mpatches"
   ]
  },
  {
   "cell_type": "code",
   "execution_count": 29,
   "metadata": {},
   "outputs": [
    {
     "data": {
      "image/png": "[encoded data removed]",
      "text/plain": [
       "<Figure size 648x360 with 1 Axes>"
      ]
     },
     "metadata": {
      "needs_background": "light"
     },
     "output_type": "display_data"
    }
   ],
   "source": [
    "plt.title(\"Distribution of Happiness Score: 2019 vs 2020\")\n",
    "plt.xlabel('happiness score')\n",
    "plt.ylabel('number of countries/regions')\n",
    "plt.hist(wh2019_df['Score'], alpha=0.6, bins=np.arange(2, 9, 0.5), color='steelblue');\n",
    "plt.hist(wh2020_df['Score'], alpha=0.6, bins=np.arange(2, 9, 0.5), stacked=True, color='tomato');\n",
    "\n",
    "blue_patch = mpatches.Patch(color='steelblue', alpha=0.6, label='2019')\n",
    "red_patch = mpatches.Patch(color='tomato', alpha=0.6, label='2020')\n",
    "plt.legend(handles=[blue_patch, red_patch], shadow=True);"
   ]
  },
  {
   "cell_type": "markdown",
   "metadata": {},
   "source": [
    "Based on the graph, we can see that the number of countries with happiness scores between 5.5 and 6.5 increased from 2019 to 2020 and the distribution is slightly skewed to the left for 2020."
   ]
  },
  {
   "cell_type": "markdown",
   "metadata": {},
   "source": [
    "#### Happiness Score Statistics"
   ]
  },
  {
   "cell_type": "markdown",
   "metadata": {},
   "source": [
    "Let's graph a bar chart to compare the mean, min, and max of the happiness scores from each dataset."
   ]
  },
  {
   "cell_type": "markdown",
   "metadata": {},
   "source": [
    "Use the `describe` method to view the stats for the happiness score."
   ]
  },
  {
   "cell_type": "code",
   "execution_count": 30,
   "metadata": {},
   "outputs": [
    {
     "data": {
      "text/plain": [
       "count    156.000000\n",
       "mean       5.407096\n",
       "std        1.113120\n",
       "min        2.853000\n",
       "25%        4.544500\n",
       "50%        5.379500\n",
       "75%        6.184500\n",
       "max        7.769000\n",
       "Name: Score, dtype: float64"
      ]
     },
     "execution_count": 30,
     "metadata": {},
     "output_type": "execute_result"
    }
   ],
   "source": [
    "wh2019_df['Score'].describe()"
   ]
  },
  {
   "cell_type": "code",
   "execution_count": 31,
   "metadata": {},
   "outputs": [
    {
     "data": {
      "text/plain": [
       "count    153.00000\n",
       "mean       5.47324\n",
       "std        1.11227\n",
       "min        2.56690\n",
       "25%        4.72410\n",
       "50%        5.51500\n",
       "75%        6.22850\n",
       "max        7.80870\n",
       "Name: Score, dtype: float64"
      ]
     },
     "execution_count": 31,
     "metadata": {},
     "output_type": "execute_result"
    }
   ],
   "source": [
    "wh2020_df['Score'].describe()"
   ]
  },
  {
   "cell_type": "markdown",
   "metadata": {},
   "source": [
    "We will create variables for the mean, min, and max scores, using the `mean`, `min`, and `max` methods, and round it to the 3rd decimal with the `round` function."
   ]
  },
  {
   "cell_type": "code",
   "execution_count": 32,
   "metadata": {},
   "outputs": [],
   "source": [
    "mean_2019 = round(wh2019_df['Score'].mean(), 3)\n",
    "mean_2020 = round(wh2020_df['Score'].mean(), 3)\n",
    "\n",
    "min_2019 = round(wh2019_df['Score'].min(), 3)\n",
    "min_2020 = round(wh2020_df['Score'].min(), 3)\n",
    "\n",
    "max_2019 = round(wh2019_df['Score'].max(), 3)\n",
    "max_2020 = round(wh2020_df['Score'].max(), 3)"
   ]
  },
  {
   "cell_type": "markdown",
   "metadata": {},
   "source": [
    "Create a dictionary with the variables created then insert the data into a new DataFrame that we will use for the graph."
   ]
  },
  {
   "cell_type": "code",
   "execution_count": 33,
   "metadata": {},
   "outputs": [
    {
     "data": {
      "text/html": [
       "<div>\n",
       "<style scoped>\n",
       "    .dataframe tbody tr th:only-of-type {\n",
       "        vertical-align: middle;\n",
       "    }\n",
       "\n",
       "    .dataframe tbody tr th {\n",
       "        vertical-align: top;\n",
       "    }\n",
       "\n",
       "    .dataframe thead th {\n",
       "        text-align: right;\n",
       "    }\n",
       "</style>\n",
       "<table border=\"1\" class=\"dataframe\">\n",
       "  <thead>\n",
       "    <tr style=\"text-align: right;\">\n",
       "      <th></th>\n",
       "      <th>mean</th>\n",
       "      <th>min</th>\n",
       "      <th>max</th>\n",
       "      <th>year</th>\n",
       "    </tr>\n",
       "  </thead>\n",
       "  <tbody>\n",
       "    <tr>\n",
       "      <th>0</th>\n",
       "      <td>5.407</td>\n",
       "      <td>2.853</td>\n",
       "      <td>7.769</td>\n",
       "      <td>2019</td>\n",
       "    </tr>\n",
       "    <tr>\n",
       "      <th>1</th>\n",
       "      <td>5.473</td>\n",
       "      <td>2.567</td>\n",
       "      <td>7.809</td>\n",
       "      <td>2020</td>\n",
       "    </tr>\n",
       "  </tbody>\n",
       "</table>\n",
       "</div>"
      ],
      "text/plain": [
       "    mean    min    max  year\n",
       "0  5.407  2.853  7.769  2019\n",
       "1  5.473  2.567  7.809  2020"
      ]
     },
     "execution_count": 33,
     "metadata": {},
     "output_type": "execute_result"
    }
   ],
   "source": [
    "stats_year = {'mean': [mean_2019, mean_2020], 'min': [min_2019, min_2020], 'max': [max_2019, max_2020], 'year': [2019, 2020]}\n",
    "stats_year_df = pd.DataFrame(stats_year)\n",
    "stats_year_df"
   ]
  },
  {
   "cell_type": "markdown",
   "metadata": {},
   "source": [
    "Use `plt.bar` to draw a bar graph for each statistic, with the year on the x-axis and happiness score on the y-axis. We will use the variable `bar_width` to split the bars and format it so that the statistics are next to each other instead of stacked.\n",
    "\n",
    "Label each bar with the statistic and value corresponding to it with `plt.bar_label`. "
   ]
  },
  {
   "cell_type": "code",
   "execution_count": 34,
   "metadata": {},
   "outputs": [
    {
     "data": {
      "image/png": "[encoded data removed]",
      "text/plain": [
       "<Figure size 648x360 with 1 Axes>"
      ]
     },
     "metadata": {
      "needs_background": "light"
     },
     "output_type": "display_data"
    }
   ],
   "source": [
    "bar_width = 0.25\n",
    "\n",
    "plt.title('Mean, Min, & Max of Happiness Score in 2019 vs 2020')\n",
    "plt.xlabel('year')\n",
    "plt.ylabel('happiness score')\n",
    "plt.xticks(stats_year_df['year'], ('         2019', '         2020'), ha='left')\n",
    "max_bar = plt.bar(stats_year_df['year'] + bar_width + bar_width, stats_year_df['max'], bar_width, align='center', alpha=0.8, color=\"thistle\");\n",
    "mean_bar = plt.bar(stats_year_df['year'] + bar_width, stats_year_df['mean'], bar_width, align='center', alpha=0.8, color=\"navajowhite\");\n",
    "min_bar = plt.bar(stats_year_df['year'], stats_year_df['min'], bar_width, align='center', alpha=0.8, color=\"pink\");\n",
    "\n",
    "plt.bar_label(max_bar, ['max', 'max'], label_type='center', fontsize=12, padding=100);\n",
    "plt.bar_label(max_bar, stats_year_df['max'], label_type='center', fontsize=12, padding=85);\n",
    "plt.bar_label(mean_bar, ['mean', 'mean'], label_type='center', fontsize=12, padding=60);\n",
    "plt.bar_label(mean_bar, stats_year_df['mean'], label_type='center', fontsize=12, padding=45);\n",
    "plt.bar_label(min_bar, ['min', 'min'], label_type='center', fontsize=12, padding=15);\n",
    "plt.bar_label(min_bar, stats_year_df['min'], label_type='center', fontsize=12, padding=0);"
   ]
  },
  {
   "cell_type": "markdown",
   "metadata": {},
   "source": [
    "The graph helps us visualize the changes from 2019 to 2020. We can see that the minimum happiness score slightly decreased, while the mean and max slightly increased."
   ]
  },
  {
   "cell_type": "markdown",
   "metadata": {},
   "source": [
    "#### Happiness Score vs Social Parameters"
   ]
  },
  {
   "cell_type": "markdown",
   "metadata": {},
   "source": [
    "Let's look at how social parameters, such as `social support`, `generosity`, `perceptions of corruption`, and `freedom to make life choices`, may affect the happiness score.\n",
    "\n",
    "We will graph a total of four scatter plots in one figure. There will be one plot for each parameter, with both 2019 and 2020 combined in each one."
   ]
  },
  {
   "cell_type": "markdown",
   "metadata": {},
   "source": [
    "Use `plt.subplot` for multiple plots, then use `plt.scatter` to draw a scatter plot. The x-axis for each graph will be `Score` and the y-axis will be one of the four social parameters. We will then include a legend and label the entire figure with `plt.suptitle`, along with a title for each individual graph. "
   ]
  },
  {
   "cell_type": "code",
   "execution_count": 35,
   "metadata": {},
   "outputs": [
    {
     "data": {
      "image/png": "[encoded data removed]",
      "text/plain": [
       "<Figure size 1584x1080 with 4 Axes>"
      ]
     },
     "metadata": {
      "needs_background": "light"
     },
     "output_type": "display_data"
    }
   ],
   "source": [
    "plt.figure(figsize=(22, 15))\n",
    "plt.suptitle(\"Happiness Score vs Social Parameters\", fontsize=25);\n",
    "blue_patch = mpatches.Patch(color='steelblue', alpha=0.8, label='2019')\n",
    "red_patch = mpatches.Patch(color='tomato', alpha=0.8, label='2020')\n",
    "plt.figlegend(handles=[blue_patch, red_patch], fontsize='x-large', shadow=True);\n",
    "\n",
    "plt.subplot(2, 2, 1)\n",
    "plt.title(\"Social support\", fontsize=22)\n",
    "plt.xlabel('social support')\n",
    "plt.ylabel('happiness score')\n",
    "plt.scatter(wh2019_df['Social support'], wh2019_df['Score'], alpha=0.8, color='steelblue');\n",
    "plt.scatter(wh2020_df['Social support'], wh2020_df['Score'], alpha=0.8, color='tomato');\n",
    "\n",
    "plt.subplot(2, 2, 2)\n",
    "plt.title(\"Generosity\", fontsize=22)\n",
    "plt.xlabel('generosity')\n",
    "plt.ylabel('happiness score')\n",
    "plt.scatter(wh2019_df['Generosity'], wh2019_df['Score'], alpha=0.8, color='steelblue');\n",
    "plt.scatter(wh2020_df['Generosity'], wh2020_df['Score'], alpha=0.8, color='tomato');\n",
    "\n",
    "plt.subplot(2, 2, 3)\n",
    "plt.title(\"Perceptions of corruption\", fontsize=22)\n",
    "plt.xlabel('perceptions of corruption')\n",
    "plt.ylabel('happiness score')\n",
    "plt.scatter(wh2019_df['Perceptions of corruption'], wh2019_df['Score'], alpha=0.8, color='steelblue');\n",
    "plt.scatter(wh2020_df['Perceptions of corruption'], wh2020_df['Score'], alpha=0.8, color='tomato');\n",
    "\n",
    "plt.subplot(2, 2, 4)\n",
    "plt.title(\"Freedom to make life choices\", fontsize=22)\n",
    "plt.xlabel('freedom to make life choices')\n",
    "plt.ylabel('happiness score')\n",
    "plt.scatter(wh2019_df['Freedom to make life choices'], wh2019_df['Score'], alpha=0.8, color='steelblue');\n",
    "plt.scatter(wh2020_df['Freedom to make life choices'], wh2020_df['Score'], alpha=0.8, color='tomato');"
   ]
  },
  {
   "cell_type": "markdown",
   "metadata": {},
   "source": [
    "Based on the graphs, we can note the following:\n",
    "- **Social support:** the social support for countries with a happiness score above 5 decreased from 2019 to 2020; in 2019, the happiness score increased as the social support increased, however in 2020, the happiness score increased even with less social support.\n",
    "- **Generosity:** the overall shape of the graph for both datasets is about the same, except the generosity decreased from 2019 to 2020; it is hard to tell how generosity may affect happiness.\n",
    "- **Perceptions of corruption:** the data in 2019 and 2020 seems to have the opposite results; the perception of corruption in 2019 looks like there isn't a big affect on the happiness score, however some of the countries with the highest happiness scores seem to have a higher perception of corruption; the perception of corruption in 2020 seems to have increased from 2019, however it also does not look like there is a big affect on the happiness score, although the countries with the highest happiness scores seem to have a lower perception of corruption.\n",
    "- **Freedom to make life choices:** the overall shape of the graph for both datasets is about the same, except the numbers for freedom to make life choices decreased from 2019 to 2020; it looks like as the freedom to make life choices increases, the happiness scores tends to increase."
   ]
  },
  {
   "cell_type": "markdown",
   "metadata": {},
   "source": [
    "#### Happiness Score vs Economic & Life Expectancy Parameters"
   ]
  },
  {
   "cell_type": "markdown",
   "metadata": {},
   "source": [
    "We will do a similar comparison with the happiness score and see how the economic (`GDP per capita`) and life expectancy (`Healthy life expectancy`) parameters may affect the score. We will graph a scatter plot for each parameter, with both datasets in each.\n",
    "\n",
    "Use `plt.subplot` for multiple plots, then use `plt.scatter` to draw a scatter plot and include a legend and title for the entire figure and each plot."
   ]
  },
  {
   "cell_type": "code",
   "execution_count": 36,
   "metadata": {
    "scrolled": false
   },
   "outputs": [
    {
     "data": {
      "image/png": "[encoded data removed]",
      "text/plain": [
       "<Figure size 1080x360 with 2 Axes>"
      ]
     },
     "metadata": {
      "needs_background": "light"
     },
     "output_type": "display_data"
    }
   ],
   "source": [
    "plt.figure(figsize=(15, 5))\n",
    "plt.suptitle(\"Happiness Score vs Economic & Life Expectancy Parameters\", y=1.12, fontsize=20);\n",
    "blue_patch = mpatches.Patch(color='steelblue', alpha=0.6, label='2019')\n",
    "red_patch = mpatches.Patch(color='tomato', alpha=0.6, label='2020')\n",
    "plt.figlegend(handles=[blue_patch, red_patch], fontsize='medium', shadow=True);\n",
    "\n",
    "plt.subplot(1, 2, 1)\n",
    "plt.title(\"GDP per capita\", fontsize=15)\n",
    "plt.xlabel('gdp per capita')\n",
    "plt.ylabel('happiness score')\n",
    "plt.scatter(wh2019_df['GDP per capita'], wh2019_df['Score'], alpha=0.8, color='steelblue');\n",
    "plt.scatter(wh2020_df['GDP per capita'], wh2020_df['Score'], alpha=0.8, color='tomato');\n",
    "\n",
    "plt.subplot(1, 2, 2)\n",
    "plt.title(\"Healthy life expectancy\", fontsize=15)\n",
    "plt.xlabel('healthy life expectancy')\n",
    "plt.ylabel('happiness score')\n",
    "plt.scatter(wh2019_df['Healthy life expectancy'], wh2019_df['Score'], alpha=0.8, color='steelblue');\n",
    "plt.scatter(wh2020_df['Healthy life expectancy'], wh2020_df['Score'], alpha=0.8, color='tomato');"
   ]
  },
  {
   "cell_type": "markdown",
   "metadata": {},
   "source": [
    "Based on the graphs, we can note the following:\n",
    "- **Economic:** the overall shape of the graph is pretty much the same for both datasets; as GDP per capita increases, the happiness score tends to increase as well.\n",
    "- **Life expectancy:** the overall shape of the graph is also about the same for both datasets; as healthy life expectancy increases, the happiness score tends to increase as well."
   ]
  },
  {
   "cell_type": "markdown",
   "metadata": {},
   "source": [
    "Let us save and upload our work to Jovian before continuing"
   ]
  },
  {
   "cell_type": "code",
   "execution_count": 136,
   "metadata": {},
   "outputs": [],
   "source": [
    "import jovian"
   ]
  },
  {
   "cell_type": "code",
   "execution_count": 137,
   "metadata": {},
   "outputs": [
    {
     "data": {
      "application/javascript": [
       "window.require && require([\"base/js/namespace\"],function(Jupyter){Jupyter.notebook.save_checkpoint()})"
      ],
      "text/plain": [
       "<IPython.core.display.Javascript object>"
      ]
     },
     "metadata": {},
     "output_type": "display_data"
    },
    {
     "name": "stdout",
     "output_type": "stream",
     "text": [
      "[jovian] Updating notebook \"ajchen97/world-happiness-eda\" on https://jovian.com\u001b[0m\n",
      "[jovian] Committed successfully! https://jovian.com/ajchen97/world-happiness-eda\u001b[0m\n"
     ]
    },
    {
     "data": {
      "text/plain": [
       "'https://jovian.com/ajchen97/world-happiness-eda'"
      ]
     },
     "execution_count": 137,
     "metadata": {},
     "output_type": "execute_result"
    }
   ],
   "source": [
    "jovian.commit()"
   ]
  },
  {
   "cell_type": "markdown",
   "metadata": {},
   "source": [
    "## Asking and Answering Questions\n",
    "\n",
    "In this section, we will take a look at some more information about the datasets and answer questions about it."
   ]
  },
  {
   "cell_type": "markdown",
   "metadata": {},
   "source": [
    "#### Q1: Top & Bottom 10 Ranks\n",
    "Which countries appeared in the top 10 and bottom 10 ranks in both years?"
   ]
  },
  {
   "cell_type": "markdown",
   "metadata": {},
   "source": [
    "Use the `head` and `tail` methods to grab the top and bottom 10 ranks from each dataset, then use `copy` to copy it into a new variable. "
   ]
  },
  {
   "cell_type": "code",
   "execution_count": 37,
   "metadata": {},
   "outputs": [],
   "source": [
    "top_countries_2019 = wh2019_df.head(10).copy()\n",
    "top_countries_2020 = wh2020_df.head(10).copy()\n",
    "\n",
    "bott_countries_2019 = wh2019_df.tail(10).copy()\n",
    "bott_countries_2020 = wh2020_df.tail(10).copy()"
   ]
  },
  {
   "cell_type": "markdown",
   "metadata": {},
   "source": [
    "To see which countries appear in the top or bottom 10 in both datasets, we can join the datasets on a matching column. \n",
    "\n",
    "Use `merge` to join the two datasets for the top 10 and the two datasets for the bottom 10, and pass the column `Country or region` in the `on` argument."
   ]
  },
  {
   "cell_type": "code",
   "execution_count": 38,
   "metadata": {},
   "outputs": [
    {
     "data": {
      "text/plain": [
       "0        Finland\n",
       "1        Denmark\n",
       "2         Norway\n",
       "3        Iceland\n",
       "4    Netherlands\n",
       "5    Switzerland\n",
       "6         Sweden\n",
       "7    New Zealand\n",
       "8        Austria\n",
       "Name: Country or region, dtype: object"
      ]
     },
     "execution_count": 38,
     "metadata": {},
     "output_type": "execute_result"
    }
   ],
   "source": [
    "top_10 = top_countries_2019.merge(top_countries_2020, on='Country or region')\n",
    "top_10['Country or region']"
   ]
  },
  {
   "cell_type": "code",
   "execution_count": 39,
   "metadata": {},
   "outputs": [
    {
     "data": {
      "text/plain": [
       "0                    Botswana\n",
       "1                      Malawi\n",
       "2                       Yemen\n",
       "3                      Rwanda\n",
       "4                    Tanzania\n",
       "5                 Afghanistan\n",
       "6    Central African Republic\n",
       "7                 South Sudan\n",
       "Name: Country or region, dtype: object"
      ]
     },
     "execution_count": 39,
     "metadata": {},
     "output_type": "execute_result"
    }
   ],
   "source": [
    "bott_10 = bott_countries_2019.merge(bott_countries_2020, on='Country or region')\n",
    "bott_10['Country or region']"
   ]
  },
  {
   "cell_type": "markdown",
   "metadata": {},
   "source": [
    "We can see that: \n",
    "- Nine out of ten top 10 ranked countries were ranked in the top 10 for both 2019 and 2020.\n",
    "- Eight out of ten bottom 10 ranked countries were ranked in the bottom 10 for both 2019 and 2020."
   ]
  },
  {
   "cell_type": "markdown",
   "metadata": {},
   "source": [
    "#### Q2: Scores Above & Below Mean\n",
    "How many countries have a happiness score below the mean, and how many countries have a happiness score above the mean?"
   ]
  },
  {
   "cell_type": "code",
   "execution_count": 40,
   "metadata": {},
   "outputs": [
    {
     "data": {
      "text/plain": [
       "5.407"
      ]
     },
     "execution_count": 40,
     "metadata": {},
     "output_type": "execute_result"
    }
   ],
   "source": [
    "mean_2019"
   ]
  },
  {
   "cell_type": "code",
   "execution_count": 41,
   "metadata": {},
   "outputs": [
    {
     "data": {
      "text/plain": [
       "5.473"
      ]
     },
     "execution_count": 41,
     "metadata": {},
     "output_type": "execute_result"
    }
   ],
   "source": [
    "mean_2020"
   ]
  },
  {
   "cell_type": "markdown",
   "metadata": {},
   "source": [
    "Use the `count` function to figure out how many countries have a score above or below the mean."
   ]
  },
  {
   "cell_type": "code",
   "execution_count": 42,
   "metadata": {},
   "outputs": [
    {
     "data": {
      "text/plain": [
       "77"
      ]
     },
     "execution_count": 42,
     "metadata": {},
     "output_type": "execute_result"
    }
   ],
   "source": [
    "wh2019_df['Score'][wh2019_df['Score'] > 5.407].count()"
   ]
  },
  {
   "cell_type": "code",
   "execution_count": 43,
   "metadata": {},
   "outputs": [
    {
     "data": {
      "text/plain": [
       "79"
      ]
     },
     "execution_count": 43,
     "metadata": {},
     "output_type": "execute_result"
    }
   ],
   "source": [
    "wh2019_df['Score'][wh2019_df['Score'] <= 5.407].count()"
   ]
  },
  {
   "cell_type": "markdown",
   "metadata": {},
   "source": [
    "In 2019, there are 77 countries with a happiness score above the mean and 79 countries with a happiness score below the mean."
   ]
  },
  {
   "cell_type": "code",
   "execution_count": 44,
   "metadata": {},
   "outputs": [
    {
     "data": {
      "text/plain": [
       "80"
      ]
     },
     "execution_count": 44,
     "metadata": {},
     "output_type": "execute_result"
    }
   ],
   "source": [
    "wh2020_df['Score'][wh2020_df['Score'] > 5.473].count()"
   ]
  },
  {
   "cell_type": "code",
   "execution_count": 45,
   "metadata": {},
   "outputs": [
    {
     "data": {
      "text/plain": [
       "73"
      ]
     },
     "execution_count": 45,
     "metadata": {},
     "output_type": "execute_result"
    }
   ],
   "source": [
    "wh2020_df['Score'][wh2020_df['Score'] <= 5.473].count()"
   ]
  },
  {
   "cell_type": "markdown",
   "metadata": {},
   "source": [
    "In 2020, there are 80 countries with a happiness score above the mean and 73 countries with a happiness score below the mean."
   ]
  },
  {
   "cell_type": "markdown",
   "metadata": {},
   "source": [
    "We can visualize this with the `sns.countplot`. First we will create a list based on the scores column that tells if the score is above or below the mean. Then create a new column in the DataFrame called `Relative to Mean` with the list.\n",
    "\n",
    "Use the `Relative to Mean` column to graph the values."
   ]
  },
  {
   "cell_type": "code",
   "execution_count": 46,
   "metadata": {},
   "outputs": [],
   "source": [
    "mean_list_2019 = pd.Series(wh2019_df['Score'])\n",
    "mean_list_2020 = pd.Series(wh2020_df['Score'])"
   ]
  },
  {
   "cell_type": "code",
   "execution_count": 47,
   "metadata": {},
   "outputs": [],
   "source": [
    "mean_2019 = mean_list_2019.tolist()\n",
    "mean_2019_list = []\n",
    "\n",
    "for x in mean_2019:\n",
    "    if x > 5.407:\n",
    "        mean_2019_list.append('above mean')\n",
    "    else:\n",
    "        mean_2019_list.append('below mean')"
   ]
  },
  {
   "cell_type": "code",
   "execution_count": 48,
   "metadata": {},
   "outputs": [],
   "source": [
    "mean_2020 = mean_list_2020.tolist()\n",
    "mean_2020_list = []\n",
    "\n",
    "for x in mean_2020:\n",
    "    if x > 5.473:\n",
    "        mean_2020_list.append('above mean')\n",
    "    else:\n",
    "        mean_2020_list.append('below mean')"
   ]
  },
  {
   "cell_type": "code",
   "execution_count": 49,
   "metadata": {},
   "outputs": [],
   "source": [
    "wh2019_df['Relative to Mean'] = mean_2019_list\n",
    "wh2020_df['Relative to Mean'] = mean_2020_list"
   ]
  },
  {
   "cell_type": "code",
   "execution_count": 50,
   "metadata": {},
   "outputs": [
    {
     "data": {
      "image/png": "[encoded data removed]",
      "text/plain": [
       "<Figure size 1440x504 with 2 Axes>"
      ]
     },
     "metadata": {
      "needs_background": "light"
     },
     "output_type": "display_data"
    }
   ],
   "source": [
    "plt.figure(figsize=(20, 7))\n",
    "\n",
    "plt.subplot(1,2,1)\n",
    "plt.title(\"2019\")\n",
    "mean_bar_2019 = sns.countplot(x=wh2019_df['Relative to Mean']);\n",
    "plt.subplot(1,2,2)\n",
    "plt.title(\"2020\")\n",
    "mean_bar_2020 = sns.countplot(x=wh2020_df['Relative to Mean']);\n",
    "\n",
    "mean_values_2019 = wh2019_df['Relative to Mean'].value_counts().values\n",
    "mean_bar_2019.bar_label(container=mean_bar_2019.containers[0], labels=mean_values_2019);\n",
    "mean_values_2020 = wh2020_df['Relative to Mean'].value_counts().values\n",
    "mean_bar_2020.bar_label(container=mean_bar_2020.containers[0], labels=mean_values_2020);"
   ]
  },
  {
   "cell_type": "markdown",
   "metadata": {},
   "source": [
    "In 2019, there are slightly less countries with a score above the mean score, and in 2020, there are slightly more countries with a score above the mean score."
   ]
  },
  {
   "cell_type": "markdown",
   "metadata": {},
   "source": [
    "#### Q3: Each Scale Number\n",
    "How many countries fall under each increment of the happiness score, from 1 to 10?"
   ]
  },
  {
   "cell_type": "markdown",
   "metadata": {},
   "source": [
    "We will create a new column, `Scale`, in each dataset that represents the increment that a country's happiness score falls under. For example, if a country's happiness score is 5.43 then it will fall under '5' and if the score is 7.21 then it will fall under '7', etc."
   ]
  },
  {
   "cell_type": "markdown",
   "metadata": {},
   "source": [
    "First, we will create a list by using a `for loop` to iterate the `Score` column to get the increment the score falls in."
   ]
  },
  {
   "cell_type": "code",
   "execution_count": 51,
   "metadata": {},
   "outputs": [],
   "source": [
    "scale_2019 = []\n",
    "\n",
    "for x in wh2019_df['Score']:\n",
    "    if x >= 1 and x < 2:\n",
    "        scale_2019.append(1)\n",
    "    elif x >= 2 and x < 3:\n",
    "        scale_2019.append(2)\n",
    "    elif x >= 3 and x < 4:\n",
    "        scale_2019.append(3)\n",
    "    elif x >= 4 and x < 5:\n",
    "        scale_2019.append(4)\n",
    "    elif x >= 5 and x < 6:\n",
    "        scale_2019.append(5)\n",
    "    elif x >= 6 and x < 7:\n",
    "        scale_2019.append(6)\n",
    "    elif x >= 7 and x < 8:\n",
    "        scale_2019.append(7)\n",
    "    elif x >= 8 and x < 9:\n",
    "        scale_2019.append(8)\n",
    "    elif x >= 9 and x < 10:\n",
    "        scale_2019.append(9)\n",
    "    else:\n",
    "        scale_2019.append(10)"
   ]
  },
  {
   "cell_type": "markdown",
   "metadata": {},
   "source": [
    "Then create a new column `Scale` in the dataset, using the list we created above as the data."
   ]
  },
  {
   "cell_type": "code",
   "execution_count": 52,
   "metadata": {},
   "outputs": [],
   "source": [
    "wh2019_df['Scale'] = scale_2019"
   ]
  },
  {
   "cell_type": "markdown",
   "metadata": {},
   "source": [
    "Repeat the above steps for the second dataset."
   ]
  },
  {
   "cell_type": "code",
   "execution_count": 53,
   "metadata": {},
   "outputs": [],
   "source": [
    "scale_2020 = []\n",
    "\n",
    "for x in wh2020_df['Score']:\n",
    "    if x >= 1 and x < 2:\n",
    "        scale_2020.append(1)\n",
    "    elif x >= 2 and x < 3:\n",
    "        scale_2020.append(2)\n",
    "    elif x >= 3 and x < 4:\n",
    "        scale_2020.append(3)\n",
    "    elif x >= 4 and x < 5:\n",
    "        scale_2020.append(4)\n",
    "    elif x >= 5 and x < 6:\n",
    "        scale_2020.append(5)\n",
    "    elif x >= 6 and x < 7:\n",
    "        scale_2020.append(6)\n",
    "    elif x >= 7 and x < 8:\n",
    "        scale_2020.append(7)\n",
    "    elif x >= 8 and x < 9:\n",
    "        scale_2020.append(8)\n",
    "    elif x >= 9 and x < 10:\n",
    "        scale_2020.append(9)\n",
    "    else:\n",
    "        scale_2020.append(10)"
   ]
  },
  {
   "cell_type": "code",
   "execution_count": 54,
   "metadata": {},
   "outputs": [],
   "source": [
    "wh2020_df['Scale'] = scale_2020"
   ]
  },
  {
   "cell_type": "markdown",
   "metadata": {},
   "source": [
    "With the new column, we will use `sns.countplot` to plot a bar chart using the number of observations in each increment. We can also use `bar_label` to label each bar with the values (number of countries in each increment)."
   ]
  },
  {
   "cell_type": "code",
   "execution_count": 79,
   "metadata": {},
   "outputs": [
    {
     "data": {
      "image/png": "[encoded data removed]",
      "text/plain": [
       "<Figure size 1440x576 with 2 Axes>"
      ]
     },
     "metadata": {
      "needs_background": "light"
     },
     "output_type": "display_data"
    }
   ],
   "source": [
    "plt.figure(figsize=(20, 8))\n",
    "\n",
    "plt.subplot(1,2,1)\n",
    "plt.title(\"2019\")\n",
    "scale_bar_2019 = sns.countplot(x=wh2019_df['Scale']);\n",
    "plt.subplot(1,2,2)\n",
    "plt.title(\"2020\")\n",
    "scale_bar_2020 = sns.countplot(x=wh2020_df['Scale']);\n",
    "\n",
    "scale_values_2019 = wh2019_df['Scale'].value_counts().sort_index().values\n",
    "scale_bar_2019.bar_label(container=scale_bar_2019.containers[0], labels=scale_values_2019);\n",
    "scale_values_2020 = wh2020_df['Scale'].value_counts().sort_index().values\n",
    "scale_bar_2020.bar_label(container=scale_bar_2020.containers[0], labels=scale_values_2020);"
   ]
  },
  {
   "cell_type": "markdown",
   "metadata": {},
   "source": [
    "From the graphs, we can see that in both years, most countries fall within the '5' scale on the happiness score, with the similar values in each increment between the two years. The exception is the '4' scale, but that may be due to the fact that 2019 has a few more countries included than in 2020. We also see that there are no countries with a happiness score within 1, 8, 9, or 10. "
   ]
  },
  {
   "cell_type": "markdown",
   "metadata": {},
   "source": [
    "#### Q4: Parameter Statistics\n",
    "How did the statistics change from 2019 to 2020 for the variables?\n",
    "\n",
    "- GDP per capita\n",
    "- Social support\n",
    "- Healthy life expectancy\n",
    "- Freedom to make life choices\n",
    "- Generosity\n",
    "- Perceptions of corruption"
   ]
  },
  {
   "cell_type": "markdown",
   "metadata": {},
   "source": [
    "We will create variables for the mean, min, and max of each column, using the `mean`, `min`, and `max` methods, and round it to the 3rd decimal with the `round` function."
   ]
  },
  {
   "cell_type": "code",
   "execution_count": 83,
   "metadata": {},
   "outputs": [],
   "source": [
    "gdp_mean_2019 = round(wh2019_df['GDP per capita'].mean(), 3)\n",
    "gdp_mean_2020 = round(wh2020_df['GDP per capita'].mean(), 3)\n",
    "\n",
    "gdp_min_2019 = round(wh2019_df['GDP per capita'].min(), 3)\n",
    "gdp_min_2020 = round(wh2020_df['GDP per capita'].min(), 3)\n",
    "\n",
    "gdp_max_2019 = round(wh2019_df['GDP per capita'].max(), 3)\n",
    "gdp_max_2020 = round(wh2020_df['GDP per capita'].max(), 3)"
   ]
  },
  {
   "cell_type": "code",
   "execution_count": 84,
   "metadata": {},
   "outputs": [],
   "source": [
    "soc_mean_2019 = round(wh2019_df['Social support'].mean(), 3)\n",
    "soc_mean_2020 = round(wh2020_df['Social support'].mean(), 3)\n",
    "\n",
    "soc_min_2019 = round(wh2019_df['Social support'].min(), 3)\n",
    "soc_min_2020 = round(wh2020_df['Social support'].min(), 3)\n",
    "\n",
    "soc_max_2019 = round(wh2019_df['Social support'].max(), 3)\n",
    "soc_max_2020 = round(wh2020_df['Social support'].max(), 3)"
   ]
  },
  {
   "cell_type": "code",
   "execution_count": 85,
   "metadata": {},
   "outputs": [],
   "source": [
    "life_mean_2019 = round(wh2019_df['Healthy life expectancy'].mean(), 3)\n",
    "life_mean_2020 = round(wh2020_df['Healthy life expectancy'].mean(), 3)\n",
    "\n",
    "life_min_2019 = round(wh2019_df['Healthy life expectancy'].min(), 3)\n",
    "life_min_2020 = round(wh2020_df['Healthy life expectancy'].min(), 3)\n",
    "\n",
    "life_max_2019 = round(wh2019_df['Healthy life expectancy'].max(), 3)\n",
    "life_max_2020 = round(wh2020_df['Healthy life expectancy'].max(), 3)"
   ]
  },
  {
   "cell_type": "code",
   "execution_count": 86,
   "metadata": {},
   "outputs": [],
   "source": [
    "free_mean_2019 = round(wh2019_df['Freedom to make life choices'].mean(), 3)\n",
    "free_mean_2020 = round(wh2020_df['Freedom to make life choices'].mean(), 3)\n",
    "\n",
    "free_min_2019 = round(wh2019_df['Freedom to make life choices'].min(), 3)\n",
    "free_min_2020 = round(wh2020_df['Freedom to make life choices'].min(), 3)\n",
    "\n",
    "free_max_2019 = round(wh2019_df['Freedom to make life choices'].max(), 3)\n",
    "free_max_2020 = round(wh2020_df['Freedom to make life choices'].max(), 3)"
   ]
  },
  {
   "cell_type": "code",
   "execution_count": 107,
   "metadata": {},
   "outputs": [],
   "source": [
    "generosity_mean_2019 = round(wh2019_df['Generosity'].mean(), 3)\n",
    "generosity_mean_2020 = round(wh2020_df['Generosity'].mean(), 3)\n",
    "\n",
    "generosity_min_2019 = round(wh2019_df['Generosity'].min(), 3)\n",
    "generosity_min_2020 = round(wh2020_df['Generosity'].min(), 3)\n",
    "\n",
    "generosity_max_2019 = round(wh2019_df['Generosity'].max(), 3)\n",
    "generosity_max_2020 = round(wh2020_df['Generosity'].max(), 3)"
   ]
  },
  {
   "cell_type": "code",
   "execution_count": 108,
   "metadata": {},
   "outputs": [],
   "source": [
    "corrupt_mean_2019 = round(wh2019_df['Perceptions of corruption'].mean(), 3)\n",
    "corrupt_mean_2020 = round(wh2020_df['Perceptions of corruption'].mean(), 3)\n",
    "\n",
    "corrupt_min_2019 = round(wh2019_df['Perceptions of corruption'].min(), 3)\n",
    "corrupt_min_2020 = round(wh2020_df['Perceptions of corruption'].min(), 3)\n",
    "\n",
    "corrupt_max_2019 = round(wh2019_df['Perceptions of corruption'].max(), 3)\n",
    "corrupt_max_2020 = round(wh2020_df['Perceptions of corruption'].max(), 3)"
   ]
  },
  {
   "cell_type": "markdown",
   "metadata": {},
   "source": [
    "Create a dictionary with the variables created then insert the data into a new DataFrame, which we will use for the graph."
   ]
  },
  {
   "cell_type": "code",
   "execution_count": 87,
   "metadata": {},
   "outputs": [
    {
     "data": {
      "text/html": [
       "<div>\n",
       "<style scoped>\n",
       "    .dataframe tbody tr th:only-of-type {\n",
       "        vertical-align: middle;\n",
       "    }\n",
       "\n",
       "    .dataframe tbody tr th {\n",
       "        vertical-align: top;\n",
       "    }\n",
       "\n",
       "    .dataframe thead th {\n",
       "        text-align: right;\n",
       "    }\n",
       "</style>\n",
       "<table border=\"1\" class=\"dataframe\">\n",
       "  <thead>\n",
       "    <tr style=\"text-align: right;\">\n",
       "      <th></th>\n",
       "      <th>mean</th>\n",
       "      <th>min</th>\n",
       "      <th>max</th>\n",
       "      <th>year</th>\n",
       "    </tr>\n",
       "  </thead>\n",
       "  <tbody>\n",
       "    <tr>\n",
       "      <th>0</th>\n",
       "      <td>0.905</td>\n",
       "      <td>0.0</td>\n",
       "      <td>1.684</td>\n",
       "      <td>2019</td>\n",
       "    </tr>\n",
       "    <tr>\n",
       "      <th>1</th>\n",
       "      <td>0.869</td>\n",
       "      <td>0.0</td>\n",
       "      <td>1.537</td>\n",
       "      <td>2020</td>\n",
       "    </tr>\n",
       "  </tbody>\n",
       "</table>\n",
       "</div>"
      ],
      "text/plain": [
       "    mean  min    max  year\n",
       "0  0.905  0.0  1.684  2019\n",
       "1  0.869  0.0  1.537  2020"
      ]
     },
     "execution_count": 87,
     "metadata": {},
     "output_type": "execute_result"
    }
   ],
   "source": [
    "gdp_stats = {'mean': [gdp_mean_2019, gdp_mean_2020], 'min': [gdp_min_2019, gdp_min_2020], 'max': [gdp_max_2019, gdp_max_2020], 'year': [2019, 2020]}\n",
    "gdp_stats_df = pd.DataFrame(gdp_stats)\n",
    "gdp_stats_df"
   ]
  },
  {
   "cell_type": "code",
   "execution_count": 88,
   "metadata": {},
   "outputs": [
    {
     "data": {
      "text/html": [
       "<div>\n",
       "<style scoped>\n",
       "    .dataframe tbody tr th:only-of-type {\n",
       "        vertical-align: middle;\n",
       "    }\n",
       "\n",
       "    .dataframe tbody tr th {\n",
       "        vertical-align: top;\n",
       "    }\n",
       "\n",
       "    .dataframe thead th {\n",
       "        text-align: right;\n",
       "    }\n",
       "</style>\n",
       "<table border=\"1\" class=\"dataframe\">\n",
       "  <thead>\n",
       "    <tr style=\"text-align: right;\">\n",
       "      <th></th>\n",
       "      <th>mean</th>\n",
       "      <th>min</th>\n",
       "      <th>max</th>\n",
       "      <th>year</th>\n",
       "    </tr>\n",
       "  </thead>\n",
       "  <tbody>\n",
       "    <tr>\n",
       "      <th>0</th>\n",
       "      <td>1.209</td>\n",
       "      <td>0.000</td>\n",
       "      <td>1.624</td>\n",
       "      <td>2019</td>\n",
       "    </tr>\n",
       "    <tr>\n",
       "      <th>1</th>\n",
       "      <td>0.809</td>\n",
       "      <td>0.319</td>\n",
       "      <td>0.975</td>\n",
       "      <td>2020</td>\n",
       "    </tr>\n",
       "  </tbody>\n",
       "</table>\n",
       "</div>"
      ],
      "text/plain": [
       "    mean    min    max  year\n",
       "0  1.209  0.000  1.624  2019\n",
       "1  0.809  0.319  0.975  2020"
      ]
     },
     "execution_count": 88,
     "metadata": {},
     "output_type": "execute_result"
    }
   ],
   "source": [
    "soc_stats = {'mean': [soc_mean_2019, soc_mean_2020], 'min': [soc_min_2019, soc_min_2020], 'max': [soc_max_2019, soc_max_2020], 'year': [2019, 2020]}\n",
    "soc_stats_df = pd.DataFrame(soc_stats)\n",
    "soc_stats_df"
   ]
  },
  {
   "cell_type": "code",
   "execution_count": 89,
   "metadata": {},
   "outputs": [
    {
     "data": {
      "text/html": [
       "<div>\n",
       "<style scoped>\n",
       "    .dataframe tbody tr th:only-of-type {\n",
       "        vertical-align: middle;\n",
       "    }\n",
       "\n",
       "    .dataframe tbody tr th {\n",
       "        vertical-align: top;\n",
       "    }\n",
       "\n",
       "    .dataframe thead th {\n",
       "        text-align: right;\n",
       "    }\n",
       "</style>\n",
       "<table border=\"1\" class=\"dataframe\">\n",
       "  <thead>\n",
       "    <tr style=\"text-align: right;\">\n",
       "      <th></th>\n",
       "      <th>mean</th>\n",
       "      <th>min</th>\n",
       "      <th>max</th>\n",
       "      <th>year</th>\n",
       "    </tr>\n",
       "  </thead>\n",
       "  <tbody>\n",
       "    <tr>\n",
       "      <th>0</th>\n",
       "      <td>0.725</td>\n",
       "      <td>0.0</td>\n",
       "      <td>1.141</td>\n",
       "      <td>2019</td>\n",
       "    </tr>\n",
       "    <tr>\n",
       "      <th>1</th>\n",
       "      <td>0.693</td>\n",
       "      <td>0.0</td>\n",
       "      <td>1.138</td>\n",
       "      <td>2020</td>\n",
       "    </tr>\n",
       "  </tbody>\n",
       "</table>\n",
       "</div>"
      ],
      "text/plain": [
       "    mean  min    max  year\n",
       "0  0.725  0.0  1.141  2019\n",
       "1  0.693  0.0  1.138  2020"
      ]
     },
     "execution_count": 89,
     "metadata": {},
     "output_type": "execute_result"
    }
   ],
   "source": [
    "life_stats = {'mean': [life_mean_2019, life_mean_2020], 'min': [life_min_2019, life_min_2020], 'max': [life_max_2019, life_max_2020], 'year': [2019, 2020]}\n",
    "life_stats_df = pd.DataFrame(life_stats)\n",
    "life_stats_df"
   ]
  },
  {
   "cell_type": "code",
   "execution_count": 90,
   "metadata": {},
   "outputs": [
    {
     "data": {
      "text/html": [
       "<div>\n",
       "<style scoped>\n",
       "    .dataframe tbody tr th:only-of-type {\n",
       "        vertical-align: middle;\n",
       "    }\n",
       "\n",
       "    .dataframe tbody tr th {\n",
       "        vertical-align: top;\n",
       "    }\n",
       "\n",
       "    .dataframe thead th {\n",
       "        text-align: right;\n",
       "    }\n",
       "</style>\n",
       "<table border=\"1\" class=\"dataframe\">\n",
       "  <thead>\n",
       "    <tr style=\"text-align: right;\">\n",
       "      <th></th>\n",
       "      <th>mean</th>\n",
       "      <th>min</th>\n",
       "      <th>max</th>\n",
       "      <th>year</th>\n",
       "    </tr>\n",
       "  </thead>\n",
       "  <tbody>\n",
       "    <tr>\n",
       "      <th>0</th>\n",
       "      <td>0.393</td>\n",
       "      <td>0.000</td>\n",
       "      <td>0.631</td>\n",
       "      <td>2019</td>\n",
       "    </tr>\n",
       "    <tr>\n",
       "      <th>1</th>\n",
       "      <td>0.783</td>\n",
       "      <td>0.397</td>\n",
       "      <td>0.975</td>\n",
       "      <td>2020</td>\n",
       "    </tr>\n",
       "  </tbody>\n",
       "</table>\n",
       "</div>"
      ],
      "text/plain": [
       "    mean    min    max  year\n",
       "0  0.393  0.000  0.631  2019\n",
       "1  0.783  0.397  0.975  2020"
      ]
     },
     "execution_count": 90,
     "metadata": {},
     "output_type": "execute_result"
    }
   ],
   "source": [
    "free_stats = {'mean': [free_mean_2019, free_mean_2020], 'min': [free_min_2019, free_min_2020], 'max': [free_max_2019, free_max_2020], 'year': [2019, 2020]}\n",
    "free_stats_df = pd.DataFrame(free_stats)\n",
    "free_stats_df"
   ]
  },
  {
   "cell_type": "code",
   "execution_count": 109,
   "metadata": {},
   "outputs": [
    {
     "data": {
      "text/html": [
       "<div>\n",
       "<style scoped>\n",
       "    .dataframe tbody tr th:only-of-type {\n",
       "        vertical-align: middle;\n",
       "    }\n",
       "\n",
       "    .dataframe tbody tr th {\n",
       "        vertical-align: top;\n",
       "    }\n",
       "\n",
       "    .dataframe thead th {\n",
       "        text-align: right;\n",
       "    }\n",
       "</style>\n",
       "<table border=\"1\" class=\"dataframe\">\n",
       "  <thead>\n",
       "    <tr style=\"text-align: right;\">\n",
       "      <th></th>\n",
       "      <th>mean</th>\n",
       "      <th>min</th>\n",
       "      <th>max</th>\n",
       "      <th>year</th>\n",
       "    </tr>\n",
       "  </thead>\n",
       "  <tbody>\n",
       "    <tr>\n",
       "      <th>0</th>\n",
       "      <td>0.185</td>\n",
       "      <td>0.000</td>\n",
       "      <td>0.566</td>\n",
       "      <td>2019</td>\n",
       "    </tr>\n",
       "    <tr>\n",
       "      <th>1</th>\n",
       "      <td>-0.015</td>\n",
       "      <td>-0.301</td>\n",
       "      <td>0.561</td>\n",
       "      <td>2020</td>\n",
       "    </tr>\n",
       "  </tbody>\n",
       "</table>\n",
       "</div>"
      ],
      "text/plain": [
       "    mean    min    max  year\n",
       "0  0.185  0.000  0.566  2019\n",
       "1 -0.015 -0.301  0.561  2020"
      ]
     },
     "execution_count": 109,
     "metadata": {},
     "output_type": "execute_result"
    }
   ],
   "source": [
    "generosity_stats = {'mean': [generosity_mean_2019, generosity_mean_2020], 'min': [generosity_min_2019, generosity_min_2020], 'max': [generosity_max_2019, generosity_max_2020], 'year': [2019, 2020]}\n",
    "generosity_stats_df = pd.DataFrame(generosity_stats)\n",
    "generosity_stats_df"
   ]
  },
  {
   "cell_type": "code",
   "execution_count": 110,
   "metadata": {},
   "outputs": [
    {
     "data": {
      "text/html": [
       "<div>\n",
       "<style scoped>\n",
       "    .dataframe tbody tr th:only-of-type {\n",
       "        vertical-align: middle;\n",
       "    }\n",
       "\n",
       "    .dataframe tbody tr th {\n",
       "        vertical-align: top;\n",
       "    }\n",
       "\n",
       "    .dataframe thead th {\n",
       "        text-align: right;\n",
       "    }\n",
       "</style>\n",
       "<table border=\"1\" class=\"dataframe\">\n",
       "  <thead>\n",
       "    <tr style=\"text-align: right;\">\n",
       "      <th></th>\n",
       "      <th>mean</th>\n",
       "      <th>min</th>\n",
       "      <th>max</th>\n",
       "      <th>year</th>\n",
       "    </tr>\n",
       "  </thead>\n",
       "  <tbody>\n",
       "    <tr>\n",
       "      <th>0</th>\n",
       "      <td>0.111</td>\n",
       "      <td>0.00</td>\n",
       "      <td>0.453</td>\n",
       "      <td>2019</td>\n",
       "    </tr>\n",
       "    <tr>\n",
       "      <th>1</th>\n",
       "      <td>0.733</td>\n",
       "      <td>0.11</td>\n",
       "      <td>0.936</td>\n",
       "      <td>2020</td>\n",
       "    </tr>\n",
       "  </tbody>\n",
       "</table>\n",
       "</div>"
      ],
      "text/plain": [
       "    mean   min    max  year\n",
       "0  0.111  0.00  0.453  2019\n",
       "1  0.733  0.11  0.936  2020"
      ]
     },
     "execution_count": 110,
     "metadata": {},
     "output_type": "execute_result"
    }
   ],
   "source": [
    "corrupt_stats = {'mean': [corrupt_mean_2019, corrupt_mean_2020], 'min': [corrupt_min_2019, corrupt_min_2020], 'max': [corrupt_max_2019, corrupt_max_2020], 'year': [2019, 2020]}\n",
    "corrupt_stats_df = pd.DataFrame(corrupt_stats)\n",
    "corrupt_stats_df"
   ]
  },
  {
   "cell_type": "markdown",
   "metadata": {},
   "source": [
    "Use `plt.bar` to draw a bar graph for each statistic, with the year on the x-axis and variable on the y-axis. We will use the variable `bar_width` to split the bars and format it so that the statistics are next to each other instead of stacked.\n",
    "\n",
    "Label each bar with the statistic and value corresponding to it with `plt.bar_label` and use `plt.tight_layout` to evenly adjust the padding between each plot."
   ]
  },
  {
   "cell_type": "code",
   "execution_count": 125,
   "metadata": {},
   "outputs": [
    {
     "data": {
      "image/png": "[encoded data removed]",
      "text/plain": [
       "<Figure size 1080x864 with 6 Axes>"
      ]
     },
     "metadata": {
      "needs_background": "light"
     },
     "output_type": "display_data"
    }
   ],
   "source": [
    "plt.figure(figsize=(15, 12))\n",
    "\n",
    "# gdp per capita\n",
    "plt.subplot(3,2,1)\n",
    "plt.title(\"GDP per capita\")\n",
    "bar_width = 0.25\n",
    "plt.xlabel('year')\n",
    "plt.ylabel('gdp per capita')\n",
    "plt.xticks(gdp_stats_df['year'], ('         2019', '         2020'), ha='left')\n",
    "gdp_max_bar = plt.bar(gdp_stats_df['year'] + bar_width + bar_width, gdp_stats_df['max'], bar_width, align='center', alpha=0.8, color=\"thistle\");\n",
    "gdp_mean_bar = plt.bar(gdp_stats_df['year'] + bar_width, gdp_stats_df['mean'], bar_width, align='center', alpha=0.8, color=\"navajowhite\");\n",
    "gdp_min_bar = plt.bar(gdp_stats_df['year'], gdp_stats_df['min'], bar_width, align='center', alpha=0.8, color=\"pink\");\n",
    "\n",
    "plt.bar_label(gdp_max_bar, ['max', 'max'], label_type='center', fontsize=12, padding=15);\n",
    "plt.bar_label(gdp_max_bar, gdp_stats_df['max'], label_type='center', fontsize=12, padding=0);\n",
    "plt.bar_label(gdp_mean_bar, ['mean', 'mean'], label_type='center', fontsize=12, padding=15);\n",
    "plt.bar_label(gdp_mean_bar, gdp_stats_df['mean'], label_type='center', fontsize=12, padding=0);\n",
    "plt.bar_label(gdp_min_bar, ['min', 'min'], label_type='center', fontsize=12, padding=15);\n",
    "plt.bar_label(gdp_min_bar, gdp_stats_df['min'], label_type='center', fontsize=12, padding=0);\n",
    "\n",
    "# social support\n",
    "plt.subplot(3,2,2)\n",
    "plt.title(\"Social Support\")\n",
    "bar_width = 0.25\n",
    "plt.xlabel('year')\n",
    "plt.ylabel('social support')\n",
    "plt.xticks(soc_stats_df['year'], ('         2019', '         2020'), ha='left')\n",
    "soc_max_bar = plt.bar(soc_stats_df['year'] + bar_width + bar_width, soc_stats_df['max'], bar_width, align='center', alpha=0.8, color=\"thistle\");\n",
    "soc_mean_bar = plt.bar(soc_stats_df['year'] + bar_width, soc_stats_df['mean'], bar_width, align='center', alpha=0.8, color=\"navajowhite\");\n",
    "soc_min_bar = plt.bar(soc_stats_df['year'], soc_stats_df['min'], bar_width, align='center', alpha=0.8, color=\"pink\");\n",
    "\n",
    "plt.bar_label(soc_max_bar, ['max', 'max'], label_type='center', fontsize=12, padding=15);\n",
    "plt.bar_label(soc_max_bar, soc_stats_df['max'], label_type='center', fontsize=12, padding=0);\n",
    "plt.bar_label(soc_mean_bar, ['mean', 'mean'], label_type='center', fontsize=12, padding=15);\n",
    "plt.bar_label(soc_mean_bar, soc_stats_df['mean'], label_type='center', fontsize=12, padding=0);\n",
    "plt.bar_label(soc_min_bar, ['min', 'min'], label_type='center', fontsize=12, padding=15);\n",
    "plt.bar_label(soc_min_bar, soc_stats_df['min'], label_type='center', fontsize=12, padding=0);\n",
    "\n",
    "# healthy life expectancy\n",
    "plt.subplot(3,2,3)\n",
    "plt.title(\"Healthy Life Expectancy\")\n",
    "bar_width = 0.25\n",
    "plt.xlabel('year')\n",
    "plt.ylabel('healthy life expectancy')\n",
    "plt.xticks(life_stats_df['year'], ('         2019', '         2020'), ha='left')\n",
    "life_max_bar = plt.bar(life_stats_df['year'] + bar_width + bar_width, life_stats_df['max'], bar_width, align='center', alpha=0.8, color=\"thistle\");\n",
    "life_mean_bar = plt.bar(life_stats_df['year'] + bar_width, life_stats_df['mean'], bar_width, align='center', alpha=0.8, color=\"navajowhite\");\n",
    "life_min_bar = plt.bar(life_stats_df['year'], life_stats_df['min'], bar_width, align='center', alpha=0.8, color=\"pink\");\n",
    "\n",
    "plt.bar_label(life_max_bar, ['max', 'max'], label_type='center', fontsize=12, padding=15);\n",
    "plt.bar_label(life_max_bar, life_stats_df['max'], label_type='center', fontsize=12, padding=0);\n",
    "plt.bar_label(life_mean_bar, ['mean', 'mean'], label_type='center', fontsize=12, padding=15);\n",
    "plt.bar_label(life_mean_bar, life_stats_df['mean'], label_type='center', fontsize=12, padding=0);\n",
    "plt.bar_label(life_min_bar, ['min', 'min'], label_type='center', fontsize=12, padding=15);\n",
    "plt.bar_label(life_min_bar, life_stats_df['min'], label_type='center', fontsize=12, padding=0);\n",
    "\n",
    "# freedom to make life choices\n",
    "plt.subplot(3,2,4)\n",
    "plt.title(\"Freedom to make life choices\")\n",
    "bar_width = 0.25\n",
    "plt.xlabel('year')\n",
    "plt.ylabel('freedom to make life choices')\n",
    "plt.xticks(free_stats_df['year'], ('         2019', '         2020'), ha='left')\n",
    "free_max_bar = plt.bar(free_stats_df['year'] + bar_width + bar_width, free_stats_df['max'], bar_width, align='center', alpha=0.8, color=\"thistle\");\n",
    "free_mean_bar = plt.bar(free_stats_df['year'] + bar_width, free_stats_df['mean'], bar_width, align='center', alpha=0.8, color=\"navajowhite\");\n",
    "free_min_bar = plt.bar(free_stats_df['year'], free_stats_df['min'], bar_width, align='center', alpha=0.8, color=\"pink\");\n",
    "\n",
    "plt.bar_label(free_max_bar, ['max', 'max'], label_type='center', fontsize=12, padding=15);\n",
    "plt.bar_label(free_max_bar, free_stats_df['max'], label_type='center', fontsize=12, padding=0);\n",
    "plt.bar_label(free_mean_bar, ['mean', 'mean'], label_type='center', fontsize=12, padding=15);\n",
    "plt.bar_label(free_mean_bar, free_stats_df['mean'], label_type='center', fontsize=12, padding=0);\n",
    "plt.bar_label(free_min_bar, ['min', 'min'], label_type='center', fontsize=12, padding=15);\n",
    "plt.bar_label(free_min_bar, free_stats_df['min'], label_type='center', fontsize=12, padding=0);\n",
    "\n",
    "# generosity\n",
    "plt.subplot(3,2,5)\n",
    "plt.title(\"Generosity\")\n",
    "bar_width = 0.25\n",
    "plt.xlabel('year')\n",
    "plt.ylabel('generosity')\n",
    "plt.xticks(generosity_stats_df['year'], ('         2019', '         2020'), ha='left')\n",
    "generosity_max_bar = plt.bar(generosity_stats_df['year'] + bar_width + bar_width, generosity_stats_df['max'], bar_width, align='center', alpha=0.8, color=\"thistle\");\n",
    "generosity_mean_bar = plt.bar(generosity_stats_df['year'] + bar_width, generosity_stats_df['mean'], bar_width, align='center', alpha=0.8, color=\"navajowhite\");\n",
    "generosity_min_bar = plt.bar(generosity_stats_df['year'], generosity_stats_df['min'], bar_width, align='center', alpha=0.8, color=\"pink\");\n",
    "\n",
    "plt.bar_label(generosity_max_bar, ['max', 'max'], label_type='center', fontsize=12, padding=15);\n",
    "plt.bar_label(generosity_max_bar, generosity_stats_df['max'], label_type='center', fontsize=12, padding=0);\n",
    "plt.bar_label(generosity_mean_bar, ['mean', 'mean'], label_type='center', fontsize=12, padding=15);\n",
    "plt.bar_label(generosity_mean_bar, generosity_stats_df['mean'], label_type='center', fontsize=12, padding=0);\n",
    "plt.bar_label(generosity_min_bar, ['min', 'min'], label_type='center', fontsize=12, padding=15);\n",
    "plt.bar_label(generosity_min_bar, generosity_stats_df['min'], label_type='center', fontsize=12, padding=0);\n",
    "\n",
    "# perceptions of corruption\n",
    "plt.subplot(3,2,6)\n",
    "plt.title(\"perceptions of corruption\")\n",
    "bar_width = 0.25\n",
    "plt.xlabel('year')\n",
    "plt.ylabel('perceptions of corruption')\n",
    "plt.xticks(corrupt_stats_df['year'], ('         2019', '         2020'), ha='left')\n",
    "corrupt_max_bar = plt.bar(corrupt_stats_df['year'] + bar_width + bar_width, corrupt_stats_df['max'], bar_width, align='center', alpha=0.8, color=\"thistle\");\n",
    "corrupt_mean_bar = plt.bar(corrupt_stats_df['year'] + bar_width, corrupt_stats_df['mean'], bar_width, align='center', alpha=0.8, color=\"navajowhite\");\n",
    "corrupt_min_bar = plt.bar(corrupt_stats_df['year'], corrupt_stats_df['min'], bar_width, align='center', alpha=0.8, color=\"pink\");\n",
    "\n",
    "plt.bar_label(corrupt_max_bar, ['max', 'max'], label_type='center', fontsize=12, padding=15);\n",
    "plt.bar_label(corrupt_max_bar, corrupt_stats_df['max'], label_type='center', fontsize=12, padding=0);\n",
    "plt.bar_label(corrupt_mean_bar, ['mean', 'mean'], label_type='center', fontsize=12, padding=15);\n",
    "plt.bar_label(corrupt_mean_bar, corrupt_stats_df['mean'], label_type='center', fontsize=12, padding=0);\n",
    "plt.bar_label(corrupt_min_bar, ['min', 'min'], label_type='center', fontsize=12, padding=15);\n",
    "plt.bar_label(corrupt_min_bar, corrupt_stats_df['min'], label_type='center', fontsize=12, padding=0);\n",
    "\n",
    "plt.tight_layout();"
   ]
  },
  {
   "cell_type": "markdown",
   "metadata": {},
   "source": [
    "The graph helps us visualize the changes from 2019 to 2020.\n",
    "\n",
    "- **GDP per capita:** the min remains the same for both years, however the mean and max slightly decreased in 2020.\n",
    "- **Social support:** the min increased in 2020, however the mean and max decreased significantly in 2020.\n",
    "- **Healthy life expectancy:** the min remains the same for both years, however the mean and max slightly decreased in 2020.\n",
    "- **Freedom to make life choices:** the min, mean, and max all increased significantly in 2020.\n",
    "- **Generosity:** the max remains about the same for both years, however the mean and min significantly decreased in 2020.\n",
    "- **Perceptions of corruption:** the min, mean, and max all increased significantly in 2020."
   ]
  },
  {
   "cell_type": "markdown",
   "metadata": {},
   "source": [
    "Let us save and upload our work to Jovian before continuing."
   ]
  },
  {
   "cell_type": "code",
   "execution_count": 367,
   "metadata": {},
   "outputs": [],
   "source": [
    "import jovian"
   ]
  },
  {
   "cell_type": "code",
   "execution_count": 368,
   "metadata": {},
   "outputs": [
    {
     "data": {
      "application/javascript": [
       "window.require && require([\"base/js/namespace\"],function(Jupyter){Jupyter.notebook.save_checkpoint()})"
      ],
      "text/plain": [
       "<IPython.core.display.Javascript object>"
      ]
     },
     "metadata": {},
     "output_type": "display_data"
    },
    {
     "name": "stdout",
     "output_type": "stream",
     "text": [
      "[jovian] Updating notebook \"ajchen97/world-happiness-eda\" on https://jovian.com\u001b[0m\n",
      "[jovian] Committed successfully! https://jovian.com/ajchen97/world-happiness-eda\u001b[0m\n"
     ]
    },
    {
     "data": {
      "text/plain": [
       "'https://jovian.com/ajchen97/world-happiness-eda'"
      ]
     },
     "execution_count": 368,
     "metadata": {},
     "output_type": "execute_result"
    }
   ],
   "source": [
    "jovian.commit()"
   ]
  },
  {
   "cell_type": "markdown",
   "metadata": {},
   "source": [
    "## Inferences and Conclusion\n",
    "\n",
    "Based on the analysis, we can assume that the pandemic did not have a huge overall effect on the happiness scores for each country/region. \n",
    "\n",
    "However, looking into each individual variable that could've had an effect on the score, we can see that there were some significant changes from 2019 to 2020. \n",
    "- Social support had a high positive correlation with the happiness score, and the average social support score went down about 30% from 2019 to 2020. \n",
    "- The freedom to make life choices had a moderate positive correlation with the happiness score, and the average freedom score doubled from 2019 to 2020.\n",
    "- Although generosity is not correlated with the happiness score, we saw the average generosity went down 108% in 2020.\n",
    "- The perceptions of corruption had a low correlation with the happiness score, that was positive in 2019 and negative in 2020, and the average went up almost 700% in 2020.\n",
    "\n",
    "We could assume that social support went down significantly in 2020 due to the lockdowns during the pandemic that left people feeling quite isolated or that the perceptions of corruption may have gone up due to the way governments handled the pandemic. We could also assume that generosity went down, due to lack of resources during the pandemic, or that the freedom to make life choices went up because people felt more satisfied with their lives during the pandemic."
   ]
  },
  {
   "cell_type": "code",
   "execution_count": 105,
   "metadata": {},
   "outputs": [],
   "source": [
    "import jovian"
   ]
  },
  {
   "cell_type": "code",
   "execution_count": 126,
   "metadata": {},
   "outputs": [
    {
     "data": {
      "application/javascript": [
       "window.require && require([\"base/js/namespace\"],function(Jupyter){Jupyter.notebook.save_checkpoint()})"
      ],
      "text/plain": [
       "<IPython.core.display.Javascript object>"
      ]
     },
     "metadata": {},
     "output_type": "display_data"
    },
    {
     "name": "stdout",
     "output_type": "stream",
     "text": [
      "[jovian] Updating notebook \"ajchen97/world-happiness-eda\" on https://jovian.com\u001b[0m\n",
      "[jovian] Committed successfully! https://jovian.com/ajchen97/world-happiness-eda\u001b[0m\n"
     ]
    },
    {
     "data": {
      "text/plain": [
       "'https://jovian.com/ajchen97/world-happiness-eda'"
      ]
     },
     "execution_count": 126,
     "metadata": {},
     "output_type": "execute_result"
    }
   ],
   "source": [
    "jovian.commit()"
   ]
  },
  {
   "cell_type": "markdown",
   "metadata": {},
   "source": [
    "## References and Future Work\n",
    "\n",
    "There is a lot that can be done with the dataset, and these are just some ideas for future projects:\n",
    "- Compare all the years of the report that are available, rather than just 2019 and 2020. It may give better insights to the changes happening between each year, especially when looking at the scores before and after the pandemic started. \n",
    "- Look at the countries that appear in the top or bottom ranks throughout the years and how it has changed over the years.\n",
    "- Split the countries into specific regions and look at the distributions and statistics based on regions, rather than the individual countries.\n",
    "\n",
    "\n",
    "References and resources used:\n",
    "- [Kaggle dataset](https://www.kaggle.com/datasets/mathurinache/world-happiness-report): the dataset used for the analysis\n",
    "- [World Happiness Report](https://worldhappiness.report/): for explanations on the report and each variable\n",
    "- [Geeksforgeeks](https://geeksforgeeks.org/): for examples on how to use specific functions\n",
    "- [StackOverflow](https://stackoverflow.com/): for help on how to do specific things with plots, such as labeling values or formatting plots"
   ]
  },
  {
   "cell_type": "code",
   "execution_count": 1,
   "metadata": {},
   "outputs": [],
   "source": [
    "import jovian"
   ]
  },
  {
   "cell_type": "code",
   "execution_count": null,
   "metadata": {
    "scrolled": true
   },
   "outputs": [
    {
     "data": {
      "application/javascript": [
       "window.require && require([\"base/js/namespace\"],function(Jupyter){Jupyter.notebook.save_checkpoint()})"
      ],
      "text/plain": [
       "<IPython.core.display.Javascript object>"
      ]
     },
     "metadata": {},
     "output_type": "display_data"
    }
   ],
   "source": [
    "jovian.commit()"
   ]
  },
  {
   "cell_type": "code",
   "execution_count": null,
   "metadata": {},
   "outputs": [],
   "source": []
  }
 ],
 "metadata": {
  "kernelspec": {
   "display_name": "Python 3 (ipykernel)",
   "language": "python",
   "name": "python3"
  },
  "language_info": {
   "codemirror_mode": {
    "name": "ipython",
    "version": 3
   },
   "file_extension": ".py",
   "mimetype": "text/x-python",
   "name": "python",
   "nbconvert_exporter": "python",
   "pygments_lexer": "ipython3",
   "version": "3.9.7"
  }
 },
 "nbformat": 4,
 "nbformat_minor": 4
}
